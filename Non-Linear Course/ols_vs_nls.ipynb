{
 "cells": [
  {
   "cell_type": "markdown",
   "id": "0e62aa25",
   "metadata": {},
   "source": [
    "# <span style=\"color:#1f4e79\"> Nonlinear Time Series: OLS and NLS</span>\n",
    "- RIEF - Winter School 2025 \n",
    "- Prepared by: Cesar Ramos"
   ]
  },
  {
   "cell_type": "markdown",
   "id": "84f12529",
   "metadata": {},
   "source": [
    "En este notebook, evaluamos ambos metodos OLS cuando el modelo es lineal en parámetros y los supuestos lo permiten; usamos NLS cuando la función de media depende no linealmente de los parámetros."
   ]
  },
  {
   "cell_type": "markdown",
   "id": "a59940af",
   "metadata": {},
   "source": [
    "## Contenido\n",
    "- Simulación de datos con una media exponencial $y_t=\\alpha e^{\\beta x_t}+\\varepsilon_t$ (error aditivo).\n",
    "- OLS lineal mal especificado: $y_t=b_0+b_1 x_t+u_t$.\n",
    "- Log-OLS (solo como semilla o si el error fuera multiplicativo).\n",
    "- NLS (Gauss–Newton/LM) estimando $\\theta=(\\alpha,\\beta)$.\n",
    "- Errores estándar (homocedásticos y robustos White/HAC).\n",
    "- Comparación con RMSE/AIC/BIC en train/test.\n",
    "- Diagnóstico (residuales vs ajustados) y mensajes pedagógicos sobre cuándo elegir OLS o NLS en series de tiempo."
   ]
  },
  {
   "cell_type": "code",
   "execution_count": 9,
   "id": "4d86ef89",
   "metadata": {},
   "outputs": [],
   "source": [
    "import numpy as np\n",
    "import pandas as pd\n",
    "from numpy.linalg import inv, lstsq, solve, norm\n",
    "import matplotlib.pyplot as plt\n",
    "rng = np.random.default_rng(2025)"
   ]
  },
  {
   "cell_type": "markdown",
   "id": "5b762f00",
   "metadata": {},
   "source": [
    "### Introducción y DGP\n",
    "\n",
    "#### Exponential mean vs Linear OLS: cuándo usar NLS en series de tiempo\n",
    "\n",
    "**Objetivo.** Estudiar un DGP no lineal en la media y comparar OLS (lineal en parámetros) versus NLS (no lineal en parámetros) en términos de estimación e inferencia.\n",
    "\n",
    "#### Data-Generating Process (DGP)\n",
    "\n",
    "Asumimos la **forma funcional poblacional**:\n",
    "$$\n",
    "y_t \\;=\\; \\alpha\\, e^{\\beta x_t} \\;+\\; \\varepsilon_t,\\qquad \\mathbb{E}[\\varepsilon_t\\mid \\mathcal{F}_{t-1}]=0,\\ \\ \\operatorname{Var}(\\varepsilon_t\\mid \\mathcal{F}_{t-1})=\\sigma^2,\n",
    "$$\n",
    "donde $x_t$ puede ser exógeno (o un proceso estacionario) y $\\varepsilon_t$ es un shock aditivo.\n",
    "\n",
    "**Mensaje clave.** Con **error aditivo**, la log-transformación **no** linealiza sin sesgo; se requiere **NLS en la escala original**. La log-linearización sí es válida si el error es **multiplicativo** (ver más abajo).\n"
   ]
  },
  {
   "cell_type": "code",
   "execution_count": 15,
   "id": "67aa0a98",
   "metadata": {},
   "outputs": [],
   "source": [
    "# 1) Simulate data\n",
    "# Simulación: y_t = alpha * exp(beta * x_t) + eps_t  (error ADITIVO)\n",
    "# Nota: Si los shocks fueran multiplicativos (y_t = alpha * exp(beta x_t) * eta_t),\n",
    "# la regresión válida sería sobre log(y_t). Aquí NO lo es: usamos NLS en y.\n",
    "\n",
    "n = 1000\n",
    "x = np.linspace(0, 5, n)\n",
    "alpha_true, beta_true = 2.0, 0.35\n",
    "sigma = 0.30\n",
    "y_true = alpha_true * np.exp(beta_true * x)\n",
    "y = y_true + rng.normal(0, sigma, size=n)\n",
    "\n",
    "data = pd.DataFrame({\"x\": x, \"y\": y, \"y_true\": y_true})"
   ]
  },
  {
   "cell_type": "code",
   "execution_count": 11,
   "id": "a749b1af",
   "metadata": {},
   "outputs": [
    {
     "data": {
      "application/vnd.microsoft.datawrangler.viewer.v0+json": {
       "columns": [
        {
         "name": "index",
         "rawType": "int64",
         "type": "integer"
        },
        {
         "name": "x",
         "rawType": "float64",
         "type": "float"
        },
        {
         "name": "y",
         "rawType": "float64",
         "type": "float"
        },
        {
         "name": "y_true",
         "rawType": "float64",
         "type": "float"
        }
       ],
       "ref": "dcb78341-24a7-4720-8963-6b2e85c34c77",
       "rows": [
        [
         "0",
         "0.0",
         "1.33",
         "2.0"
        ],
        [
         "1",
         "0.0",
         "2.01",
         "2.0"
        ],
        [
         "2",
         "0.0",
         "1.84",
         "2.0"
        ],
        [
         "3",
         "0.0",
         "1.66",
         "2.0"
        ],
        [
         "4",
         "0.0",
         "1.27",
         "2.0"
        ],
        [
         "5",
         "0.0",
         "2.23",
         "2.0"
        ],
        [
         "6",
         "0.0",
         "1.77",
         "2.0"
        ],
        [
         "7",
         "0.0",
         "2.08",
         "2.0"
        ],
        [
         "8",
         "0.0",
         "2.21",
         "2.0"
        ],
        [
         "9",
         "0.0",
         "2.09",
         "2.0"
        ],
        [
         "10",
         "0.01",
         "1.94",
         "2.0"
        ],
        [
         "11",
         "0.01",
         "2.2",
         "2.0"
        ],
        [
         "12",
         "0.01",
         "2.16",
         "2.0"
        ],
        [
         "13",
         "0.01",
         "2.18",
         "2.0"
        ],
        [
         "14",
         "0.01",
         "1.51",
         "2.0"
        ],
        [
         "15",
         "0.01",
         "1.89",
         "2.01"
        ],
        [
         "16",
         "0.01",
         "1.8",
         "2.01"
        ],
        [
         "17",
         "0.01",
         "2.89",
         "2.01"
        ],
        [
         "18",
         "0.01",
         "1.81",
         "2.01"
        ],
        [
         "19",
         "0.01",
         "2.38",
         "2.01"
        ]
       ],
       "shape": {
        "columns": 3,
        "rows": 20
       }
      },
      "text/html": [
       "<div>\n",
       "<style scoped>\n",
       "    .dataframe tbody tr th:only-of-type {\n",
       "        vertical-align: middle;\n",
       "    }\n",
       "\n",
       "    .dataframe tbody tr th {\n",
       "        vertical-align: top;\n",
       "    }\n",
       "\n",
       "    .dataframe thead th {\n",
       "        text-align: right;\n",
       "    }\n",
       "</style>\n",
       "<table border=\"1\" class=\"dataframe\">\n",
       "  <thead>\n",
       "    <tr style=\"text-align: right;\">\n",
       "      <th></th>\n",
       "      <th>x</th>\n",
       "      <th>y</th>\n",
       "      <th>y_true</th>\n",
       "    </tr>\n",
       "  </thead>\n",
       "  <tbody>\n",
       "    <tr>\n",
       "      <th>0</th>\n",
       "      <td>0.00</td>\n",
       "      <td>1.33</td>\n",
       "      <td>2.00</td>\n",
       "    </tr>\n",
       "    <tr>\n",
       "      <th>1</th>\n",
       "      <td>0.00</td>\n",
       "      <td>2.01</td>\n",
       "      <td>2.00</td>\n",
       "    </tr>\n",
       "    <tr>\n",
       "      <th>2</th>\n",
       "      <td>0.00</td>\n",
       "      <td>1.84</td>\n",
       "      <td>2.00</td>\n",
       "    </tr>\n",
       "    <tr>\n",
       "      <th>3</th>\n",
       "      <td>0.00</td>\n",
       "      <td>1.66</td>\n",
       "      <td>2.00</td>\n",
       "    </tr>\n",
       "    <tr>\n",
       "      <th>4</th>\n",
       "      <td>0.00</td>\n",
       "      <td>1.27</td>\n",
       "      <td>2.00</td>\n",
       "    </tr>\n",
       "    <tr>\n",
       "      <th>5</th>\n",
       "      <td>0.00</td>\n",
       "      <td>2.23</td>\n",
       "      <td>2.00</td>\n",
       "    </tr>\n",
       "    <tr>\n",
       "      <th>6</th>\n",
       "      <td>0.00</td>\n",
       "      <td>1.77</td>\n",
       "      <td>2.00</td>\n",
       "    </tr>\n",
       "    <tr>\n",
       "      <th>7</th>\n",
       "      <td>0.00</td>\n",
       "      <td>2.08</td>\n",
       "      <td>2.00</td>\n",
       "    </tr>\n",
       "    <tr>\n",
       "      <th>8</th>\n",
       "      <td>0.00</td>\n",
       "      <td>2.21</td>\n",
       "      <td>2.00</td>\n",
       "    </tr>\n",
       "    <tr>\n",
       "      <th>9</th>\n",
       "      <td>0.00</td>\n",
       "      <td>2.09</td>\n",
       "      <td>2.00</td>\n",
       "    </tr>\n",
       "    <tr>\n",
       "      <th>10</th>\n",
       "      <td>0.01</td>\n",
       "      <td>1.94</td>\n",
       "      <td>2.00</td>\n",
       "    </tr>\n",
       "    <tr>\n",
       "      <th>11</th>\n",
       "      <td>0.01</td>\n",
       "      <td>2.20</td>\n",
       "      <td>2.00</td>\n",
       "    </tr>\n",
       "    <tr>\n",
       "      <th>12</th>\n",
       "      <td>0.01</td>\n",
       "      <td>2.16</td>\n",
       "      <td>2.00</td>\n",
       "    </tr>\n",
       "    <tr>\n",
       "      <th>13</th>\n",
       "      <td>0.01</td>\n",
       "      <td>2.18</td>\n",
       "      <td>2.00</td>\n",
       "    </tr>\n",
       "    <tr>\n",
       "      <th>14</th>\n",
       "      <td>0.01</td>\n",
       "      <td>1.51</td>\n",
       "      <td>2.00</td>\n",
       "    </tr>\n",
       "    <tr>\n",
       "      <th>15</th>\n",
       "      <td>0.01</td>\n",
       "      <td>1.89</td>\n",
       "      <td>2.01</td>\n",
       "    </tr>\n",
       "    <tr>\n",
       "      <th>16</th>\n",
       "      <td>0.01</td>\n",
       "      <td>1.80</td>\n",
       "      <td>2.01</td>\n",
       "    </tr>\n",
       "    <tr>\n",
       "      <th>17</th>\n",
       "      <td>0.01</td>\n",
       "      <td>2.89</td>\n",
       "      <td>2.01</td>\n",
       "    </tr>\n",
       "    <tr>\n",
       "      <th>18</th>\n",
       "      <td>0.01</td>\n",
       "      <td>1.81</td>\n",
       "      <td>2.01</td>\n",
       "    </tr>\n",
       "    <tr>\n",
       "      <th>19</th>\n",
       "      <td>0.01</td>\n",
       "      <td>2.38</td>\n",
       "      <td>2.01</td>\n",
       "    </tr>\n",
       "  </tbody>\n",
       "</table>\n",
       "</div>"
      ],
      "text/plain": [
       "       x     y  y_true\n",
       "0   0.00  1.33    2.00\n",
       "1   0.00  2.01    2.00\n",
       "2   0.00  1.84    2.00\n",
       "3   0.00  1.66    2.00\n",
       "4   0.00  1.27    2.00\n",
       "5   0.00  2.23    2.00\n",
       "6   0.00  1.77    2.00\n",
       "7   0.00  2.08    2.00\n",
       "8   0.00  2.21    2.00\n",
       "9   0.00  2.09    2.00\n",
       "10  0.01  1.94    2.00\n",
       "11  0.01  2.20    2.00\n",
       "12  0.01  2.16    2.00\n",
       "13  0.01  2.18    2.00\n",
       "14  0.01  1.51    2.00\n",
       "15  0.01  1.89    2.01\n",
       "16  0.01  1.80    2.01\n",
       "17  0.01  2.89    2.01\n",
       "18  0.01  1.81    2.01\n",
       "19  0.01  2.38    2.01"
      ]
     },
     "execution_count": 11,
     "metadata": {},
     "output_type": "execute_result"
    }
   ],
   "source": [
    "data.head(20).round(2)"
   ]
  },
  {
   "cell_type": "code",
   "execution_count": 16,
   "id": "15e8e0a5",
   "metadata": {},
   "outputs": [
    {
     "data": {
      "text/plain": [
       "((700, 3), (300, 3))"
      ]
     },
     "execution_count": 16,
     "metadata": {},
     "output_type": "execute_result"
    }
   ],
   "source": [
    "# Train/test split\n",
    "split = int(0.7 * n)\n",
    "train, test = data.iloc[:split].copy(), data.iloc[split:].copy()\n",
    "train.shape, test.shape"
   ]
  },
  {
   "cell_type": "code",
   "execution_count": 17,
   "id": "ea7637af",
   "metadata": {},
   "outputs": [
    {
     "data": {
      "application/vnd.microsoft.datawrangler.viewer.v0+json": {
       "columns": [
        {
         "name": "index",
         "rawType": "int64",
         "type": "integer"
        },
        {
         "name": "x",
         "rawType": "float64",
         "type": "float"
        },
        {
         "name": "y",
         "rawType": "float64",
         "type": "float"
        },
        {
         "name": "y_true",
         "rawType": "float64",
         "type": "float"
        }
       ],
       "ref": "b9732fc8-bdc1-4d4a-b6e3-a7fabd5137f4",
       "rows": [
        [
         "0",
         "0.0",
         "1.3043939058739509",
         "2.0"
        ],
        [
         "1",
         "0.005005005005005005",
         "2.3294700970808147",
         "2.003506573930317"
        ],
        [
         "2",
         "0.01001001001001001",
         "1.9727557407854277",
         "2.0070192958909976"
        ],
        [
         "3",
         "0.015015015015015015",
         "2.205727145579223",
         "2.0105381766613046"
        ],
        [
         "4",
         "0.02002002002002002",
         "1.6068084798786986",
         "2.014063227039398"
        ]
       ],
       "shape": {
        "columns": 3,
        "rows": 5
       }
      },
      "text/html": [
       "<div>\n",
       "<style scoped>\n",
       "    .dataframe tbody tr th:only-of-type {\n",
       "        vertical-align: middle;\n",
       "    }\n",
       "\n",
       "    .dataframe tbody tr th {\n",
       "        vertical-align: top;\n",
       "    }\n",
       "\n",
       "    .dataframe thead th {\n",
       "        text-align: right;\n",
       "    }\n",
       "</style>\n",
       "<table border=\"1\" class=\"dataframe\">\n",
       "  <thead>\n",
       "    <tr style=\"text-align: right;\">\n",
       "      <th></th>\n",
       "      <th>x</th>\n",
       "      <th>y</th>\n",
       "      <th>y_true</th>\n",
       "    </tr>\n",
       "  </thead>\n",
       "  <tbody>\n",
       "    <tr>\n",
       "      <th>0</th>\n",
       "      <td>0.000000</td>\n",
       "      <td>1.304394</td>\n",
       "      <td>2.000000</td>\n",
       "    </tr>\n",
       "    <tr>\n",
       "      <th>1</th>\n",
       "      <td>0.005005</td>\n",
       "      <td>2.329470</td>\n",
       "      <td>2.003507</td>\n",
       "    </tr>\n",
       "    <tr>\n",
       "      <th>2</th>\n",
       "      <td>0.010010</td>\n",
       "      <td>1.972756</td>\n",
       "      <td>2.007019</td>\n",
       "    </tr>\n",
       "    <tr>\n",
       "      <th>3</th>\n",
       "      <td>0.015015</td>\n",
       "      <td>2.205727</td>\n",
       "      <td>2.010538</td>\n",
       "    </tr>\n",
       "    <tr>\n",
       "      <th>4</th>\n",
       "      <td>0.020020</td>\n",
       "      <td>1.606808</td>\n",
       "      <td>2.014063</td>\n",
       "    </tr>\n",
       "  </tbody>\n",
       "</table>\n",
       "</div>"
      ],
      "text/plain": [
       "          x         y    y_true\n",
       "0  0.000000  1.304394  2.000000\n",
       "1  0.005005  2.329470  2.003507\n",
       "2  0.010010  1.972756  2.007019\n",
       "3  0.015015  2.205727  2.010538\n",
       "4  0.020020  1.606808  2.014063"
      ]
     },
     "execution_count": 17,
     "metadata": {},
     "output_type": "execute_result"
    }
   ],
   "source": [
    "train.head()"
   ]
  },
  {
   "cell_type": "code",
   "execution_count": 18,
   "id": "1707f1c4",
   "metadata": {},
   "outputs": [
    {
     "data": {
      "image/png": "[encoded data removed]",
      "text/plain": [
       "<Figure size 800x600 with 1 Axes>"
      ]
     },
     "metadata": {},
     "output_type": "display_data"
    }
   ],
   "source": [
    "# Plot: y y y_true vs x \n",
    "plt.figure(figsize=(8,6))\n",
    "plt.scatter(data[\"x\"], data[\"y\"], label=\"y (observado)\", color=\"gray\", s=10, alpha=0.7)\n",
    "plt.plot(data[\"x\"], data[\"y_true\"], label=\"y_true (verdadero)\", color=\"blue\", linewidth=2)\n",
    "plt.xlabel(\"x\")\n",
    "plt.ylabel(\"y / y_true\")\n",
    "plt.title(\"Comparación: y observado vs y_true respecto a x\")\n",
    "plt.legend()\n",
    "plt.show()"
   ]
  },
  {
   "cell_type": "markdown",
   "id": "cfac758f",
   "metadata": {},
   "source": [
    "### OLS: estimación e inferencia (especificado erronea)"
   ]
  },
  {
   "cell_type": "markdown",
   "id": "72798387",
   "metadata": {},
   "source": [
    "#### OLS lineal (modelo mal especificado para un DGP exponencial)\n",
    "\n",
    "**Modelo estimado (lineal en parámetros):**\n",
    "$$\n",
    "y_t \\;=\\; b_0 + b_1 x_t + u_t,\\qquad \\widehat{\\beta}_{\\text{OLS}} = (X'X)^{-1}X'y,\n",
    "$$\n",
    "con $X=[\\mathbf{1},\\, x]$.\n",
    "\n",
    "**Varianzas:**\n",
    "- Homocedástico: $$\\widehat{\\mathrm{Var}}(\\widehat{\\beta})=\\hat\\sigma^2 (X'X)^{-1},\\quad \\hat\\sigma^2=\\frac{\\sum_t \\hat u_t^2}{T-p}.$$\n",
    "- Robusto White/HAC (series de tiempo):  \n",
    "$$\n",
    "\\widehat{\\mathrm{Var}}_{\\text{HAC}}(\\widehat{\\beta})=(X'X)^{-1}\n",
    "\\left(\\sum_{h=-L}^{L}k(h,L)\\,\\Gamma_h\\right)(X'X)^{-1},\n",
    "\\quad \\Gamma_h=\\sum_t \\hat u_t \\hat u_{t-h} X_t X_{t-h}'.\n",
    "$$\n",
    "\n",
    "**Advertencia.** Como la media verdadera es exponencial, OLS está **mal especificado** globalmente. Puede aproximar en rangos pequeños de $x_t$, pero generará **curvatura residual** y posible **heterocedasticidad**.\n"
   ]
  },
  {
   "cell_type": "code",
   "execution_count": 19,
   "id": "839f049c",
   "metadata": {},
   "outputs": [],
   "source": [
    "# OLS lineal: y_t ~ 1 + x_t  (modelo mal especificado)\n",
    "# Recomendación en series de tiempo: siempre reportar SE robustos (HAC/Newey-West)\n",
    "# para evitar inferencia optimista por autocorrelación/heterocedasticidad.\n",
    "\n",
    "# 2) OLS: y = b0 + b1 x + u\n",
    "def fit_ols(df):\n",
    "    X = np.column_stack((np.ones(len(df)), df[\"x\"].to_numpy()))\n",
    "    yv = df[\"y\"].to_numpy()\n",
    "    beta_hat = lstsq(X, yv, rcond=None)[0]\n",
    "    resid = yv - X @ beta_hat\n",
    "    n, p = X.shape\n",
    "    s2 = (resid @ resid) / (n - p)\n",
    "    cov_homo = s2 * inv(X.T @ X)\n",
    "    S = (X * resid[:, None]).T @ (X)  # X' diag(e^2) X\n",
    "    cov_white = inv(X.T @ X) @ S @ inv(X.T @ X)\n",
    "    return {\"beta\": beta_hat, \"resid\": resid, \"X\": X, \"sigma2\": s2,\n",
    "            \"cov_homo\": cov_homo, \"cov_white\": cov_white, \"fitted\": X @ beta_hat}\n",
    "\n",
    "ols_tr = fit_ols(train)\n",
    "ols_te_pred = np.column_stack((np.ones(len(test)), test[\"x\"].to_numpy())) @ ols_tr[\"beta\"]"
   ]
  },
  {
   "cell_type": "markdown",
   "id": "3c11ac31",
   "metadata": {},
   "source": [
    "## Log-OLS: cuándo sí y cómo retransformar"
   ]
  },
  {
   "cell_type": "markdown",
   "id": "85dffd39",
   "metadata": {},
   "source": [
    "## ¿Puedo log-linearizar? Solo si el error es multiplicativo\n",
    "\n",
    "Si el DGP fuera $y_t=\\alpha e^{\\beta x_t}\\cdot \\eta_t$ con $\\mathbb{E}[\\eta_t\\mid \\mathcal{F}_{t-1}]=1$ y $\\eta_t>0$:\n",
    "$$\n",
    "\\ln y_t = \\ln\\alpha + \\beta x_t + \\varepsilon_{\\log,t},\\qquad \\mathbb{E}[\\varepsilon_{\\log,t}\\mid \\mathcal{F}_{t-1}]=0.\n",
    "$$\n",
    "\n",
    "**Retransformación a $y$:**\n",
    "- Si $\\varepsilon_{\\log,t}\\sim \\mathcal{N}(0,\\sigma^2)$,\n",
    "$$\n",
    "\\widehat{y}_t = \\exp\\!\\big(\\widehat{\\ln\\alpha}+\\widehat\\beta x_t + \\widehat{\\sigma}^2/2\\big).\n",
    "$$\n",
    "- **Smearing de Duan (1983)** (no requiere normalidad):\n",
    "$$\n",
    "\\widehat{y}_t = \\exp(\\widehat{m}(x_t)) \\cdot \\left(\\frac{1}{T}\\sum_{i=1}^{T}\\exp(\\widehat{\\varepsilon}_{\\log,i})\\right).\n",
    "$$\n",
    "\n",
    "**En este cuaderno** el error es **aditivo**, por lo que el log solo sirve como **semilla numérica** para NLS.\n"
   ]
  },
  {
   "cell_type": "code",
   "execution_count": 69,
   "id": "92c9383c",
   "metadata": {},
   "outputs": [],
   "source": [
    "# 3) NLS: y = alpha * exp(beta x) + e  (Gauss–Newton)\n",
    "def nls_gauss_newton(df, theta0=None, max_iter=50, tol=1e-10):\n",
    "    x = df[\"x\"].to_numpy()\n",
    "    y = df[\"y\"].to_numpy()\n",
    "    n = len(y)\n",
    "    if theta0 is None:\n",
    "        mask = y > 0\n",
    "        X0 = np.column_stack((np.ones(mask.sum()), x[mask]))\n",
    "        bb = lstsq(X0, np.log(y[mask]), rcond=None)[0]\n",
    "        theta = np.array([np.exp(bb[0]), bb[1]])\n",
    "    else:\n",
    "        theta = np.array(theta0, dtype=float)\n",
    "    history = []\n",
    "    for it in range(max_iter):\n",
    "        a, b = theta\n",
    "        e = np.exp(b * x)\n",
    "        f = a * e\n",
    "        r = y - f\n",
    "        J = np.column_stack((e, a * x * e))\n",
    "        A = J.T @ J\n",
    "        g = J.T @ r\n",
    "        try:\n",
    "            delta = solve(A, g)\n",
    "        except np.linalg.LinAlgError:\n",
    "            delta = lstsq(A, g, rcond=None)[0]\n",
    "        theta_new = theta + delta\n",
    "        history.append({\"iter\": it, \"alpha\": a, \"beta\": b, \"RSS\": float(r.T @ r), \"step_norm\": norm(delta)})\n",
    "        if norm(delta) < tol:\n",
    "            theta = theta_new\n",
    "            break\n",
    "        theta = theta_new\n",
    "    a, b = theta\n",
    "    e = np.exp(b * x)\n",
    "    f = a * e\n",
    "    r = y - f\n",
    "    J = np.column_stack((e, a * x * e))\n",
    "    p = 2\n",
    "    sigma2 = (r @ r) / (n - p)\n",
    "    cov_homo = sigma2 * inv(J.T @ J)\n",
    "    cov_white = inv(J.T @ J) @ (J.T @ (J * (r[:, None]**2)) ) @ inv(J.T @ J)\n",
    "    return {\"theta\": theta, \"resid\": r, \"J\": J, \"sigma2\": sigma2,\n",
    "            \"cov_homo\": cov_homo, \"cov_white\": cov_white, \"fitted\": f,\n",
    "            \"history\": pd.DataFrame(history)}\n",
    "\n",
    "nls_tr = nls_gauss_newton(train)\n",
    "def nls_predict(x, theta):\n",
    "    return theta[0] * np.exp(theta[1] * x)\n",
    "nls_te_pred = nls_predict(test[\"x\"].to_numpy(), nls_tr[\"theta\"])"
   ]
  },
  {
   "cell_type": "code",
   "execution_count": 70,
   "id": "bb996636",
   "metadata": {},
   "outputs": [],
   "source": [
    "# 4) Metrics\n",
    "def metrics(df, fitted, params, cov_homo, name):\n",
    "    y = df[\"y\"].to_numpy()\n",
    "    resid = y - fitted\n",
    "    n = len(y); k = len(params)\n",
    "    sse = resid @ resid\n",
    "    sst = ((y - y.mean()) @ (y - y.mean()))\n",
    "    r2 = 1 - sse/sst\n",
    "    rmse = np.sqrt(sse / n)\n",
    "    aic = n * np.log(sse / n) + 2 * k\n",
    "    bic = n * np.log(sse / n) + np.log(n) * k\n",
    "    return pd.Series({\"model\": name, \"n\": n, \"k\": k, \"SSE\": sse, \"RMSE\": rmse, \"R2_or_pseudoR2\": r2, \"AIC\": aic, \"BIC\": bic})\n",
    "\n",
    "met_ols_tr = metrics(train, ols_tr[\"fitted\"], ols_tr[\"beta\"], ols_tr[\"cov_homo\"], \"OLS (train)\")\n",
    "met_nls_tr = metrics(train, nls_tr[\"fitted\"], nls_tr[\"theta\"], nls_tr[\"cov_homo\"], \"NLS (train)\")"
   ]
  },
  {
   "cell_type": "code",
   "execution_count": 71,
   "id": "50113cf8",
   "metadata": {},
   "outputs": [],
   "source": [
    "def test_metrics(df, yhat, name):\n",
    "    y = df[\"y\"].to_numpy()\n",
    "    resid = y - yhat\n",
    "    n = len(y)\n",
    "    sse = resid @ resid\n",
    "    sst = ((y - y.mean()) @ (y - y.mean()))\n",
    "    r2 = 1 - sse/sst\n",
    "    rmse = np.sqrt(sse / n)\n",
    "    return pd.Series({\"model\": name, \"n\": n, \"SSE\": sse, \"RMSE\": rmse, \"R2_or_pseudoR2\": r2})\n",
    "\n",
    "met_ols_te = test_metrics(test, ols_te_pred, \"OLS (test)\")\n",
    "met_nls_te = test_metrics(test, nls_te_pred, \"NLS (test)\")"
   ]
  },
  {
   "cell_type": "code",
   "execution_count": 72,
   "id": "554faf7a",
   "metadata": {},
   "outputs": [
    {
     "name": "stdout",
     "output_type": "stream",
     "text": [
      "Comparative metrics: OLS vs NLS\n"
     ]
    },
    {
     "data": {
      "application/vnd.microsoft.datawrangler.viewer.v0+json": {
       "columns": [
        {
         "name": "index",
         "rawType": "int64",
         "type": "integer"
        },
        {
         "name": "model",
         "rawType": "object",
         "type": "string"
        },
        {
         "name": "n",
         "rawType": "int64",
         "type": "integer"
        },
        {
         "name": "k",
         "rawType": "float64",
         "type": "float"
        },
        {
         "name": "SSE",
         "rawType": "float64",
         "type": "float"
        },
        {
         "name": "RMSE",
         "rawType": "float64",
         "type": "float"
        },
        {
         "name": "R2_or_pseudoR2",
         "rawType": "float64",
         "type": "float"
        },
        {
         "name": "AIC",
         "rawType": "float64",
         "type": "float"
        },
        {
         "name": "BIC",
         "rawType": "float64",
         "type": "float"
        }
       ],
       "ref": "a1c79704-c1fe-4913-8712-ece05426cac8",
       "rows": [
        [
         "0",
         "OLS (train)",
         "700",
         "2.0",
         "93.68",
         "0.37",
         "0.93",
         "-1403.87",
         "-1394.77"
        ],
        [
         "1",
         "NLS (train)",
         "700",
         "2.0",
         "64.57",
         "0.3",
         "0.95",
         "-1664.37",
         "-1655.27"
        ],
        [
         "2",
         "OLS (test)",
         "300",
         null,
         "974.77",
         "1.8",
         "-0.75",
         null,
         null
        ],
        [
         "3",
         "NLS (test)",
         "300",
         null,
         "27.75",
         "0.3",
         "0.95",
         null,
         null
        ]
       ],
       "shape": {
        "columns": 8,
        "rows": 4
       }
      },
      "text/html": [
       "<div>\n",
       "<style scoped>\n",
       "    .dataframe tbody tr th:only-of-type {\n",
       "        vertical-align: middle;\n",
       "    }\n",
       "\n",
       "    .dataframe tbody tr th {\n",
       "        vertical-align: top;\n",
       "    }\n",
       "\n",
       "    .dataframe thead th {\n",
       "        text-align: right;\n",
       "    }\n",
       "</style>\n",
       "<table border=\"1\" class=\"dataframe\">\n",
       "  <thead>\n",
       "    <tr style=\"text-align: right;\">\n",
       "      <th></th>\n",
       "      <th>model</th>\n",
       "      <th>n</th>\n",
       "      <th>k</th>\n",
       "      <th>SSE</th>\n",
       "      <th>RMSE</th>\n",
       "      <th>R2_or_pseudoR2</th>\n",
       "      <th>AIC</th>\n",
       "      <th>BIC</th>\n",
       "    </tr>\n",
       "  </thead>\n",
       "  <tbody>\n",
       "    <tr>\n",
       "      <th>0</th>\n",
       "      <td>OLS (train)</td>\n",
       "      <td>700</td>\n",
       "      <td>2.0</td>\n",
       "      <td>93.68</td>\n",
       "      <td>0.37</td>\n",
       "      <td>0.93</td>\n",
       "      <td>-1403.87</td>\n",
       "      <td>-1394.77</td>\n",
       "    </tr>\n",
       "    <tr>\n",
       "      <th>1</th>\n",
       "      <td>NLS (train)</td>\n",
       "      <td>700</td>\n",
       "      <td>2.0</td>\n",
       "      <td>64.57</td>\n",
       "      <td>0.30</td>\n",
       "      <td>0.95</td>\n",
       "      <td>-1664.37</td>\n",
       "      <td>-1655.27</td>\n",
       "    </tr>\n",
       "    <tr>\n",
       "      <th>2</th>\n",
       "      <td>OLS (test)</td>\n",
       "      <td>300</td>\n",
       "      <td>NaN</td>\n",
       "      <td>974.77</td>\n",
       "      <td>1.80</td>\n",
       "      <td>-0.75</td>\n",
       "      <td>NaN</td>\n",
       "      <td>NaN</td>\n",
       "    </tr>\n",
       "    <tr>\n",
       "      <th>3</th>\n",
       "      <td>NLS (test)</td>\n",
       "      <td>300</td>\n",
       "      <td>NaN</td>\n",
       "      <td>27.75</td>\n",
       "      <td>0.30</td>\n",
       "      <td>0.95</td>\n",
       "      <td>NaN</td>\n",
       "      <td>NaN</td>\n",
       "    </tr>\n",
       "  </tbody>\n",
       "</table>\n",
       "</div>"
      ],
      "text/plain": [
       "         model    n    k     SSE  RMSE  R2_or_pseudoR2      AIC      BIC\n",
       "0  OLS (train)  700  2.0   93.68  0.37            0.93 -1403.87 -1394.77\n",
       "1  NLS (train)  700  2.0   64.57  0.30            0.95 -1664.37 -1655.27\n",
       "2   OLS (test)  300  NaN  974.77  1.80           -0.75      NaN      NaN\n",
       "3   NLS (test)  300  NaN   27.75  0.30            0.95      NaN      NaN"
      ]
     },
     "execution_count": 72,
     "metadata": {},
     "output_type": "execute_result"
    }
   ],
   "source": [
    "summary = pd.DataFrame([met_ols_tr, met_nls_tr, met_ols_te, met_nls_te])\n",
    "print(\"Comparative metrics: OLS vs NLS\")\n",
    "summary.round(2)"
   ]
  },
  {
   "cell_type": "code",
   "execution_count": 73,
   "id": "155a5c89",
   "metadata": {},
   "outputs": [
    {
     "name": "stdout",
     "output_type": "stream",
     "text": [
      "OLS parameter estimates        param  estimate  SE_homoskedastic  SE_robust_White\n",
      "0  Intercept  1.562314          0.027663         0.027958\n",
      "1          x  1.354803          0.013691         0.015983\n"
     ]
    },
    {
     "data": {
      "application/vnd.microsoft.datawrangler.viewer.v0+json": {
       "columns": [
        {
         "name": "index",
         "rawType": "int64",
         "type": "integer"
        },
        {
         "name": "param",
         "rawType": "object",
         "type": "string"
        },
        {
         "name": "estimate",
         "rawType": "float64",
         "type": "float"
        },
        {
         "name": "SE_homoskedastic",
         "rawType": "float64",
         "type": "float"
        },
        {
         "name": "SE_robust_White",
         "rawType": "float64",
         "type": "float"
        }
       ],
       "ref": "d045c912-f314-45f4-bb22-ba63482d3206",
       "rows": [
        [
         "0",
         "Intercept",
         "1.5623135344480428",
         "0.027663095656094084",
         "0.02795768333436366"
        ],
        [
         "1",
         "x",
         "1.3548026626066019",
         "0.013690661807093604",
         "0.015982675622906565"
        ]
       ],
       "shape": {
        "columns": 4,
        "rows": 2
       }
      },
      "text/html": [
       "<div>\n",
       "<style scoped>\n",
       "    .dataframe tbody tr th:only-of-type {\n",
       "        vertical-align: middle;\n",
       "    }\n",
       "\n",
       "    .dataframe tbody tr th {\n",
       "        vertical-align: top;\n",
       "    }\n",
       "\n",
       "    .dataframe thead th {\n",
       "        text-align: right;\n",
       "    }\n",
       "</style>\n",
       "<table border=\"1\" class=\"dataframe\">\n",
       "  <thead>\n",
       "    <tr style=\"text-align: right;\">\n",
       "      <th></th>\n",
       "      <th>param</th>\n",
       "      <th>estimate</th>\n",
       "      <th>SE_homoskedastic</th>\n",
       "      <th>SE_robust_White</th>\n",
       "    </tr>\n",
       "  </thead>\n",
       "  <tbody>\n",
       "    <tr>\n",
       "      <th>0</th>\n",
       "      <td>Intercept</td>\n",
       "      <td>1.562314</td>\n",
       "      <td>0.027663</td>\n",
       "      <td>0.027958</td>\n",
       "    </tr>\n",
       "    <tr>\n",
       "      <th>1</th>\n",
       "      <td>x</td>\n",
       "      <td>1.354803</td>\n",
       "      <td>0.013691</td>\n",
       "      <td>0.015983</td>\n",
       "    </tr>\n",
       "  </tbody>\n",
       "</table>\n",
       "</div>"
      ],
      "text/plain": [
       "       param  estimate  SE_homoskedastic  SE_robust_White\n",
       "0  Intercept  1.562314          0.027663         0.027958\n",
       "1          x  1.354803          0.013691         0.015983"
      ]
     },
     "execution_count": 73,
     "metadata": {},
     "output_type": "execute_result"
    }
   ],
   "source": [
    "ols_params = pd.DataFrame({\n",
    "    \"param\": [\"Intercept\", \"x\"],\n",
    "    \"estimate\": ols_tr[\"beta\"],\n",
    "    \"SE_homoskedastic\": np.sqrt(np.diag(ols_tr[\"cov_homo\"])),\n",
    "    \"SE_robust_White\": np.sqrt(np.diag(ols_tr[\"cov_white\"]))\n",
    "})\n",
    "\n",
    "print(\"OLS parameter estimates\", ols_params)\n",
    "ols_params"
   ]
  },
  {
   "cell_type": "code",
   "execution_count": 74,
   "id": "ddbf354c",
   "metadata": {},
   "outputs": [
    {
     "name": "stdout",
     "output_type": "stream",
     "text": [
      "NLS parameter estimates    param  estimate  SE_homoskedastic  SE_robust_White  true_value\n",
      "0  alpha  1.995619          0.016025         0.016634        2.00\n",
      "1   beta  0.352056          0.003135         0.003195        0.35\n"
     ]
    },
    {
     "data": {
      "application/vnd.microsoft.datawrangler.viewer.v0+json": {
       "columns": [
        {
         "name": "index",
         "rawType": "int64",
         "type": "integer"
        },
        {
         "name": "param",
         "rawType": "object",
         "type": "string"
        },
        {
         "name": "estimate",
         "rawType": "float64",
         "type": "float"
        },
        {
         "name": "SE_homoskedastic",
         "rawType": "float64",
         "type": "float"
        },
        {
         "name": "SE_robust_White",
         "rawType": "float64",
         "type": "float"
        },
        {
         "name": "true_value",
         "rawType": "float64",
         "type": "float"
        }
       ],
       "ref": "c5bc0161-c5a4-4640-81ff-be3750bc1363",
       "rows": [
        [
         "0",
         "alpha",
         "1.9956188744722851",
         "0.01602547532505521",
         "0.016633884651997624",
         "2.0"
        ],
        [
         "1",
         "beta",
         "0.3520564924066315",
         "0.003135217593951185",
         "0.003195077531349006",
         "0.35"
        ]
       ],
       "shape": {
        "columns": 5,
        "rows": 2
       }
      },
      "text/html": [
       "<div>\n",
       "<style scoped>\n",
       "    .dataframe tbody tr th:only-of-type {\n",
       "        vertical-align: middle;\n",
       "    }\n",
       "\n",
       "    .dataframe tbody tr th {\n",
       "        vertical-align: top;\n",
       "    }\n",
       "\n",
       "    .dataframe thead th {\n",
       "        text-align: right;\n",
       "    }\n",
       "</style>\n",
       "<table border=\"1\" class=\"dataframe\">\n",
       "  <thead>\n",
       "    <tr style=\"text-align: right;\">\n",
       "      <th></th>\n",
       "      <th>param</th>\n",
       "      <th>estimate</th>\n",
       "      <th>SE_homoskedastic</th>\n",
       "      <th>SE_robust_White</th>\n",
       "      <th>true_value</th>\n",
       "    </tr>\n",
       "  </thead>\n",
       "  <tbody>\n",
       "    <tr>\n",
       "      <th>0</th>\n",
       "      <td>alpha</td>\n",
       "      <td>1.995619</td>\n",
       "      <td>0.016025</td>\n",
       "      <td>0.016634</td>\n",
       "      <td>2.00</td>\n",
       "    </tr>\n",
       "    <tr>\n",
       "      <th>1</th>\n",
       "      <td>beta</td>\n",
       "      <td>0.352056</td>\n",
       "      <td>0.003135</td>\n",
       "      <td>0.003195</td>\n",
       "      <td>0.35</td>\n",
       "    </tr>\n",
       "  </tbody>\n",
       "</table>\n",
       "</div>"
      ],
      "text/plain": [
       "   param  estimate  SE_homoskedastic  SE_robust_White  true_value\n",
       "0  alpha  1.995619          0.016025         0.016634        2.00\n",
       "1   beta  0.352056          0.003135         0.003195        0.35"
      ]
     },
     "execution_count": 74,
     "metadata": {},
     "output_type": "execute_result"
    }
   ],
   "source": [
    "nls_params = pd.DataFrame({\n",
    "    \"param\": [\"alpha\", \"beta\"],\n",
    "    \"estimate\": nls_tr[\"theta\"],\n",
    "    \"SE_homoskedastic\": np.sqrt(np.diag(nls_tr[\"cov_homo\"])),\n",
    "    \"SE_robust_White\": np.sqrt(np.diag(nls_tr[\"cov_white\"])),\n",
    "    \"true_value\": [alpha_true, beta_true]\n",
    "})\n",
    "\n",
    "print(\"NLS parameter estimates\", nls_params)\n",
    "nls_params"
   ]
  },
  {
   "cell_type": "code",
   "execution_count": 75,
   "id": "f4d18944",
   "metadata": {},
   "outputs": [
    {
     "name": "stdout",
     "output_type": "stream",
     "text": [
      "NLS Gauss–Newton history\n"
     ]
    },
    {
     "data": {
      "application/vnd.microsoft.datawrangler.viewer.v0+json": {
       "columns": [
        {
         "name": "index",
         "rawType": "int64",
         "type": "integer"
        },
        {
         "name": "iter",
         "rawType": "int64",
         "type": "integer"
        },
        {
         "name": "alpha",
         "rawType": "float64",
         "type": "float"
        },
        {
         "name": "beta",
         "rawType": "float64",
         "type": "float"
        },
        {
         "name": "RSS",
         "rawType": "float64",
         "type": "float"
        },
        {
         "name": "step_norm",
         "rawType": "float64",
         "type": "float"
        }
       ],
       "ref": "f7c6c289-3c9f-4f68-b25c-2f2bbbd95b24",
       "rows": [
        [
         "0",
         "0",
         "1.9639598504716957",
         "0.3579528562743682",
         "64.93101787363032",
         "0.03220568080268842"
        ],
        [
         "1",
         "1",
         "1.9956126076603418",
         "0.35201073221631646",
         "64.56628084229573",
         "4.6257415077125246e-05"
        ],
        [
         "2",
         "2",
         "1.9956180365499678",
         "0.352056669952515",
         "64.56610511757873",
         "8.598193245779991e-07"
        ],
        [
         "3",
         "3",
         "1.9956188776966672",
         "0.35205649173494874",
         "64.56610511728034",
         "3.3061076110988947e-09"
        ],
        [
         "4",
         "4",
         "1.9956188744600398",
         "0.35205649240918224",
         "64.56610511728033",
         "1.2508093776403743e-11"
        ]
       ],
       "shape": {
        "columns": 5,
        "rows": 5
       }
      },
      "text/html": [
       "<div>\n",
       "<style scoped>\n",
       "    .dataframe tbody tr th:only-of-type {\n",
       "        vertical-align: middle;\n",
       "    }\n",
       "\n",
       "    .dataframe tbody tr th {\n",
       "        vertical-align: top;\n",
       "    }\n",
       "\n",
       "    .dataframe thead th {\n",
       "        text-align: right;\n",
       "    }\n",
       "</style>\n",
       "<table border=\"1\" class=\"dataframe\">\n",
       "  <thead>\n",
       "    <tr style=\"text-align: right;\">\n",
       "      <th></th>\n",
       "      <th>iter</th>\n",
       "      <th>alpha</th>\n",
       "      <th>beta</th>\n",
       "      <th>RSS</th>\n",
       "      <th>step_norm</th>\n",
       "    </tr>\n",
       "  </thead>\n",
       "  <tbody>\n",
       "    <tr>\n",
       "      <th>0</th>\n",
       "      <td>0</td>\n",
       "      <td>1.963960</td>\n",
       "      <td>0.357953</td>\n",
       "      <td>64.931018</td>\n",
       "      <td>3.220568e-02</td>\n",
       "    </tr>\n",
       "    <tr>\n",
       "      <th>1</th>\n",
       "      <td>1</td>\n",
       "      <td>1.995613</td>\n",
       "      <td>0.352011</td>\n",
       "      <td>64.566281</td>\n",
       "      <td>4.625742e-05</td>\n",
       "    </tr>\n",
       "    <tr>\n",
       "      <th>2</th>\n",
       "      <td>2</td>\n",
       "      <td>1.995618</td>\n",
       "      <td>0.352057</td>\n",
       "      <td>64.566105</td>\n",
       "      <td>8.598193e-07</td>\n",
       "    </tr>\n",
       "    <tr>\n",
       "      <th>3</th>\n",
       "      <td>3</td>\n",
       "      <td>1.995619</td>\n",
       "      <td>0.352056</td>\n",
       "      <td>64.566105</td>\n",
       "      <td>3.306108e-09</td>\n",
       "    </tr>\n",
       "    <tr>\n",
       "      <th>4</th>\n",
       "      <td>4</td>\n",
       "      <td>1.995619</td>\n",
       "      <td>0.352056</td>\n",
       "      <td>64.566105</td>\n",
       "      <td>1.250809e-11</td>\n",
       "    </tr>\n",
       "  </tbody>\n",
       "</table>\n",
       "</div>"
      ],
      "text/plain": [
       "   iter     alpha      beta        RSS     step_norm\n",
       "0     0  1.963960  0.357953  64.931018  3.220568e-02\n",
       "1     1  1.995613  0.352011  64.566281  4.625742e-05\n",
       "2     2  1.995618  0.352057  64.566105  8.598193e-07\n",
       "3     3  1.995619  0.352056  64.566105  3.306108e-09\n",
       "4     4  1.995619  0.352056  64.566105  1.250809e-11"
      ]
     },
     "execution_count": 75,
     "metadata": {},
     "output_type": "execute_result"
    }
   ],
   "source": [
    "print(\"NLS Gauss–Newton history\")\n",
    "nls_tr[\"history\"]"
   ]
  },
  {
   "cell_type": "code",
   "execution_count": 76,
   "id": "fdd8fd97",
   "metadata": {},
   "outputs": [],
   "source": [
    "# 5) Plots\n",
    "xs = data[\"x\"].to_numpy()\n",
    "ols_full_pred = np.column_stack((np.ones(len(xs)), xs)) @ ols_tr[\"beta\"]\n",
    "nls_full_pred = nls_predict(xs, nls_tr[\"theta\"])"
   ]
  },
  {
   "cell_type": "code",
   "execution_count": 77,
   "id": "cb1aa584",
   "metadata": {},
   "outputs": [
    {
     "data": {
      "image/png": "[encoded data removed]",
      "text/plain": [
       "<Figure size 640x480 with 1 Axes>"
      ]
     },
     "metadata": {},
     "output_type": "display_data"
    }
   ],
   "source": [
    "plt.figure()\n",
    "plt.scatter(data[\"x\"], data[\"y\"], label=\"datos\", color=\"lightgray\", s=10)\n",
    "plt.plot(xs, ols_full_pred, label=\"OLS ajustado\", color=\"red\")\n",
    "plt.plot(xs, nls_full_pred, label=\"NLS ajustado\", color=\"blue\")\n",
    "plt.xlabel(\"x\"); plt.ylabel(\"y\"); plt.title(\"Comparación de ajustes: OLS vs NLS\")\n",
    "plt.legend()\n",
    "plt.show()"
   ]
  },
  {
   "cell_type": "code",
   "execution_count": 78,
   "id": "ab4b6ec0",
   "metadata": {},
   "outputs": [
    {
     "data": {
      "image/png": "[encoded data removed]",
      "text/plain": [
       "<Figure size 640x480 with 1 Axes>"
      ]
     },
     "metadata": {},
     "output_type": "display_data"
    }
   ],
   "source": [
    "plt.figure()\n",
    "plt.scatter(ols_tr[\"fitted\"], train[\"y\"].to_numpy() - ols_tr[\"fitted\"])\n",
    "plt.axhline(0)\n",
    "plt.xlabel(\"fitted OLS\"); plt.ylabel(\"residuales\"); plt.title(\"Diagnóstico OLS: residuales vs fitted\")\n",
    "plt.show()"
   ]
  },
  {
   "cell_type": "code",
   "execution_count": 79,
   "id": "5354de8a",
   "metadata": {},
   "outputs": [
    {
     "data": {
      "image/png": "[encoded data removed]",
      "text/plain": [
       "<Figure size 640x480 with 1 Axes>"
      ]
     },
     "metadata": {},
     "output_type": "display_data"
    }
   ],
   "source": [
    "plt.figure()\n",
    "plt.scatter(nls_tr[\"fitted\"], train[\"y\"].to_numpy() - nls_tr[\"fitted\"])\n",
    "plt.axhline(0)\n",
    "plt.xlabel(\"fitted NLS\"); plt.ylabel(\"residuales\"); plt.title(\"Diagnóstico NLS: residuales vs fitted\")\n",
    "plt.show()"
   ]
  }
 ],
 "metadata": {
  "kernelspec": {
   "display_name": "Python 3",
   "language": "python",
   "name": "python3"
  },
  "language_info": {
   "codemirror_mode": {
    "name": "ipython",
    "version": 3
   },
   "file_extension": ".py",
   "mimetype": "text/x-python",
   "name": "python",
   "nbconvert_exporter": "python",
   "pygments_lexer": "ipython3",
   "version": "3.12.4"
  }
 },
 "nbformat": 4,
 "nbformat_minor": 5
}
