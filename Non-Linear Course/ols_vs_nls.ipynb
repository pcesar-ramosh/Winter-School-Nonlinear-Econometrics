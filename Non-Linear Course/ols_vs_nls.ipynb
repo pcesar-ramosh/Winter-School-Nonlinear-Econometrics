{
 "cells": [
  {
   "cell_type": "markdown",
   "id": "0e62aa25",
   "metadata": {},
   "source": [
    "# <span style=\"color:#1f4e79\"> Nonlinear Time Series: OLS and NLS</span>\n",
    "- RIEF - Winter School 2025 "
   ]
  },
  {
   "cell_type": "markdown",
   "id": "84f12529",
   "metadata": {},
   "source": [
    "Notebook: Evaluamos ambos metodos OLS cuando el modelo es lineal en parámetros y los supuestos lo permiten; usamos NLS cuando la función de media depende no linealmente de los parámetros."
   ]
  },
  {
   "cell_type": "markdown",
   "id": "a59940af",
   "metadata": {},
   "source": [
    "## Contenido\n",
    "- Simulación de datos con una media exponencial $y_t=\\alpha e^{\\beta x_t}+\\varepsilon_t$ (error aditivo).\n",
    "- OLS lineal mal especificado: $y_t=b_0+b_1 x_t+u_t$.\n",
    "- Log-OLS (solo como semilla o si el error fuera multiplicativo).\n",
    "- NLS (Gauss–Newton/LM) estimando $\\theta=(\\alpha,\\beta)$.\n",
    "- Errores estándar (homocedásticos y robustos White/HAC).\n",
    "- Comparación con RMSE/AIC/BIC en train/test.\n",
    "- Diagnóstico (residuales vs ajustados) y mensajes pedagógicos sobre cuándo elegir OLS o NLS en series de tiempo."
   ]
  },
  {
   "cell_type": "code",
   "execution_count": 143,
   "id": "4d86ef89",
   "metadata": {},
   "outputs": [],
   "source": [
    "import numpy as np\n",
    "import pandas as pd\n",
    "from numpy.linalg import inv, lstsq, solve, norm\n",
    "import matplotlib.pyplot as plt\n",
    "rng = np.random.default_rng(2025)"
   ]
  },
  {
   "cell_type": "markdown",
   "id": "5b762f00",
   "metadata": {},
   "source": [
    "### Introducción y DGP\n",
    "\n",
    "#### Exponential mean vs Linear OLS: cuándo usar NLS en series de tiempo\n",
    "\n",
    "**Objetivo.** Estudiar un DGP no lineal en la media y comparar OLS (lineal en parámetros) versus NLS (no lineal en parámetros) en términos de estimación e inferencia.\n",
    "\n",
    "#### Data-Generating Process (DGP)\n",
    "\n",
    "Asumimos la **forma funcional poblacional**:\n",
    "$$\n",
    "y_t \\;=\\; \\alpha\\, e^{\\beta x_t} \\;+\\; \\varepsilon_t,\\qquad \\mathbb{E}[\\varepsilon_t\\mid \\mathcal{F}_{t-1}]=0,\\ \\ \\operatorname{Var}(\\varepsilon_t\\mid \\mathcal{F}_{t-1})=\\sigma^2,\n",
    "$$\n",
    "donde $x_t$ puede ser exógeno (o un proceso estacionario) y $\\varepsilon_t$ es un shock aditivo.\n",
    "\n",
    "**Mensaje clave.** Con **error aditivo**, la log-transformación **no** linealiza sin sesgo; se requiere **NLS en la escala original**. La log-linearización sí es válida si el error es **multiplicativo** (ver más abajo).\n"
   ]
  },
  {
   "cell_type": "code",
   "execution_count": 144,
   "id": "67aa0a98",
   "metadata": {},
   "outputs": [],
   "source": [
    "# 1) Simulate data\n",
    "# Simulación: y_t = alpha * exp(beta * x_t) + eps_t  (error ADITIVO)\n",
    "# Nota: Si los shocks fueran multiplicativos (y_t = alpha * exp(beta x_t) * eta_t),\n",
    "# la regresión válida sería sobre log(y_t). Aquí NO lo es: usamos NLS en y.\n",
    "\n",
    "n = 100\n",
    "x = np.linspace(0, 5, n)\n",
    "alpha_true, beta_true = 2.0, 0.35\n",
    "sigma = 0.30\n",
    "y_true = alpha_true * np.exp(beta_true * x)\n",
    "y = y_true + rng.normal(0, sigma, size=n)\n",
    "\n",
    "data = pd.DataFrame({\"x\": x, \"y\": y, \"y_true\": y_true})"
   ]
  },
  {
   "cell_type": "code",
   "execution_count": 145,
   "id": "d5f3a462",
   "metadata": {},
   "outputs": [
    {
     "data": {
      "text/plain": [
       "array([0.        , 0.05050505, 0.1010101 , 0.15151515, 0.2020202 ,\n",
       "       0.25252525, 0.3030303 , 0.35353535, 0.4040404 , 0.45454545,\n",
       "       0.50505051, 0.55555556, 0.60606061, 0.65656566, 0.70707071,\n",
       "       0.75757576, 0.80808081, 0.85858586, 0.90909091, 0.95959596,\n",
       "       1.01010101, 1.06060606, 1.11111111, 1.16161616, 1.21212121,\n",
       "       1.26262626, 1.31313131, 1.36363636, 1.41414141, 1.46464646,\n",
       "       1.51515152, 1.56565657, 1.61616162, 1.66666667, 1.71717172,\n",
       "       1.76767677, 1.81818182, 1.86868687, 1.91919192, 1.96969697,\n",
       "       2.02020202, 2.07070707, 2.12121212, 2.17171717, 2.22222222,\n",
       "       2.27272727, 2.32323232, 2.37373737, 2.42424242, 2.47474747,\n",
       "       2.52525253, 2.57575758, 2.62626263, 2.67676768, 2.72727273,\n",
       "       2.77777778, 2.82828283, 2.87878788, 2.92929293, 2.97979798,\n",
       "       3.03030303, 3.08080808, 3.13131313, 3.18181818, 3.23232323,\n",
       "       3.28282828, 3.33333333, 3.38383838, 3.43434343, 3.48484848,\n",
       "       3.53535354, 3.58585859, 3.63636364, 3.68686869, 3.73737374,\n",
       "       3.78787879, 3.83838384, 3.88888889, 3.93939394, 3.98989899,\n",
       "       4.04040404, 4.09090909, 4.14141414, 4.19191919, 4.24242424,\n",
       "       4.29292929, 4.34343434, 4.39393939, 4.44444444, 4.49494949,\n",
       "       4.54545455, 4.5959596 , 4.64646465, 4.6969697 , 4.74747475,\n",
       "       4.7979798 , 4.84848485, 4.8989899 , 4.94949495, 5.        ])"
      ]
     },
     "execution_count": 145,
     "metadata": {},
     "output_type": "execute_result"
    }
   ],
   "source": [
    "x"
   ]
  },
  {
   "cell_type": "code",
   "execution_count": 146,
   "id": "a749b1af",
   "metadata": {},
   "outputs": [
    {
     "data": {
      "application/vnd.microsoft.datawrangler.viewer.v0+json": {
       "columns": [
        {
         "name": "index",
         "rawType": "int64",
         "type": "integer"
        },
        {
         "name": "x",
         "rawType": "float64",
         "type": "float"
        },
        {
         "name": "y",
         "rawType": "float64",
         "type": "float"
        },
        {
         "name": "y_true",
         "rawType": "float64",
         "type": "float"
        }
       ],
       "ref": "91a57a5c-7943-4447-931f-cdbd57fd50d2",
       "rows": [
        [
         "0",
         "0.0",
         "1.33",
         "2.0"
        ],
        [
         "1",
         "0.05",
         "2.04",
         "2.04"
        ],
        [
         "2",
         "0.1",
         "1.91",
         "2.07"
        ],
        [
         "3",
         "0.15",
         "1.77",
         "2.11"
        ],
        [
         "4",
         "0.2",
         "1.41",
         "2.15"
        ],
        [
         "5",
         "0.25",
         "2.41",
         "2.18"
        ],
        [
         "6",
         "0.3",
         "2.0",
         "2.22"
        ],
        [
         "7",
         "0.35",
         "2.34",
         "2.26"
        ],
        [
         "8",
         "0.4",
         "2.51",
         "2.3"
        ],
        [
         "9",
         "0.45",
         "2.43",
         "2.34"
        ],
        [
         "10",
         "0.51",
         "2.33",
         "2.39"
        ],
        [
         "11",
         "0.56",
         "2.63",
         "2.43"
        ],
        [
         "12",
         "0.61",
         "2.63",
         "2.47"
        ],
        [
         "13",
         "0.66",
         "2.7",
         "2.52"
        ],
        [
         "14",
         "0.71",
         "2.07",
         "2.56"
        ],
        [
         "15",
         "0.76",
         "2.49",
         "2.61"
        ],
        [
         "16",
         "0.81",
         "2.45",
         "2.65"
        ],
        [
         "17",
         "0.86",
         "3.58",
         "2.7"
        ],
        [
         "18",
         "0.91",
         "2.55",
         "2.75"
        ],
        [
         "19",
         "0.96",
         "3.18",
         "2.8"
        ]
       ],
       "shape": {
        "columns": 3,
        "rows": 20
       }
      },
      "text/html": [
       "<div>\n",
       "<style scoped>\n",
       "    .dataframe tbody tr th:only-of-type {\n",
       "        vertical-align: middle;\n",
       "    }\n",
       "\n",
       "    .dataframe tbody tr th {\n",
       "        vertical-align: top;\n",
       "    }\n",
       "\n",
       "    .dataframe thead th {\n",
       "        text-align: right;\n",
       "    }\n",
       "</style>\n",
       "<table border=\"1\" class=\"dataframe\">\n",
       "  <thead>\n",
       "    <tr style=\"text-align: right;\">\n",
       "      <th></th>\n",
       "      <th>x</th>\n",
       "      <th>y</th>\n",
       "      <th>y_true</th>\n",
       "    </tr>\n",
       "  </thead>\n",
       "  <tbody>\n",
       "    <tr>\n",
       "      <th>0</th>\n",
       "      <td>0.00</td>\n",
       "      <td>1.33</td>\n",
       "      <td>2.00</td>\n",
       "    </tr>\n",
       "    <tr>\n",
       "      <th>1</th>\n",
       "      <td>0.05</td>\n",
       "      <td>2.04</td>\n",
       "      <td>2.04</td>\n",
       "    </tr>\n",
       "    <tr>\n",
       "      <th>2</th>\n",
       "      <td>0.10</td>\n",
       "      <td>1.91</td>\n",
       "      <td>2.07</td>\n",
       "    </tr>\n",
       "    <tr>\n",
       "      <th>3</th>\n",
       "      <td>0.15</td>\n",
       "      <td>1.77</td>\n",
       "      <td>2.11</td>\n",
       "    </tr>\n",
       "    <tr>\n",
       "      <th>4</th>\n",
       "      <td>0.20</td>\n",
       "      <td>1.41</td>\n",
       "      <td>2.15</td>\n",
       "    </tr>\n",
       "    <tr>\n",
       "      <th>5</th>\n",
       "      <td>0.25</td>\n",
       "      <td>2.41</td>\n",
       "      <td>2.18</td>\n",
       "    </tr>\n",
       "    <tr>\n",
       "      <th>6</th>\n",
       "      <td>0.30</td>\n",
       "      <td>2.00</td>\n",
       "      <td>2.22</td>\n",
       "    </tr>\n",
       "    <tr>\n",
       "      <th>7</th>\n",
       "      <td>0.35</td>\n",
       "      <td>2.34</td>\n",
       "      <td>2.26</td>\n",
       "    </tr>\n",
       "    <tr>\n",
       "      <th>8</th>\n",
       "      <td>0.40</td>\n",
       "      <td>2.51</td>\n",
       "      <td>2.30</td>\n",
       "    </tr>\n",
       "    <tr>\n",
       "      <th>9</th>\n",
       "      <td>0.45</td>\n",
       "      <td>2.43</td>\n",
       "      <td>2.34</td>\n",
       "    </tr>\n",
       "    <tr>\n",
       "      <th>10</th>\n",
       "      <td>0.51</td>\n",
       "      <td>2.33</td>\n",
       "      <td>2.39</td>\n",
       "    </tr>\n",
       "    <tr>\n",
       "      <th>11</th>\n",
       "      <td>0.56</td>\n",
       "      <td>2.63</td>\n",
       "      <td>2.43</td>\n",
       "    </tr>\n",
       "    <tr>\n",
       "      <th>12</th>\n",
       "      <td>0.61</td>\n",
       "      <td>2.63</td>\n",
       "      <td>2.47</td>\n",
       "    </tr>\n",
       "    <tr>\n",
       "      <th>13</th>\n",
       "      <td>0.66</td>\n",
       "      <td>2.70</td>\n",
       "      <td>2.52</td>\n",
       "    </tr>\n",
       "    <tr>\n",
       "      <th>14</th>\n",
       "      <td>0.71</td>\n",
       "      <td>2.07</td>\n",
       "      <td>2.56</td>\n",
       "    </tr>\n",
       "    <tr>\n",
       "      <th>15</th>\n",
       "      <td>0.76</td>\n",
       "      <td>2.49</td>\n",
       "      <td>2.61</td>\n",
       "    </tr>\n",
       "    <tr>\n",
       "      <th>16</th>\n",
       "      <td>0.81</td>\n",
       "      <td>2.45</td>\n",
       "      <td>2.65</td>\n",
       "    </tr>\n",
       "    <tr>\n",
       "      <th>17</th>\n",
       "      <td>0.86</td>\n",
       "      <td>3.58</td>\n",
       "      <td>2.70</td>\n",
       "    </tr>\n",
       "    <tr>\n",
       "      <th>18</th>\n",
       "      <td>0.91</td>\n",
       "      <td>2.55</td>\n",
       "      <td>2.75</td>\n",
       "    </tr>\n",
       "    <tr>\n",
       "      <th>19</th>\n",
       "      <td>0.96</td>\n",
       "      <td>3.18</td>\n",
       "      <td>2.80</td>\n",
       "    </tr>\n",
       "  </tbody>\n",
       "</table>\n",
       "</div>"
      ],
      "text/plain": [
       "       x     y  y_true\n",
       "0   0.00  1.33    2.00\n",
       "1   0.05  2.04    2.04\n",
       "2   0.10  1.91    2.07\n",
       "3   0.15  1.77    2.11\n",
       "4   0.20  1.41    2.15\n",
       "5   0.25  2.41    2.18\n",
       "6   0.30  2.00    2.22\n",
       "7   0.35  2.34    2.26\n",
       "8   0.40  2.51    2.30\n",
       "9   0.45  2.43    2.34\n",
       "10  0.51  2.33    2.39\n",
       "11  0.56  2.63    2.43\n",
       "12  0.61  2.63    2.47\n",
       "13  0.66  2.70    2.52\n",
       "14  0.71  2.07    2.56\n",
       "15  0.76  2.49    2.61\n",
       "16  0.81  2.45    2.65\n",
       "17  0.86  3.58    2.70\n",
       "18  0.91  2.55    2.75\n",
       "19  0.96  3.18    2.80"
      ]
     },
     "execution_count": 146,
     "metadata": {},
     "output_type": "execute_result"
    }
   ],
   "source": [
    "data.head(20).round(2)"
   ]
  },
  {
   "cell_type": "code",
   "execution_count": 147,
   "id": "ff0f098f",
   "metadata": {},
   "outputs": [
    {
     "data": {
      "image/png": "[encoded data removed]",
      "text/plain": [
       "<Figure size 640x480 with 1 Axes>"
      ]
     },
     "metadata": {},
     "output_type": "display_data"
    }
   ],
   "source": [
    "import matplotlib.pyplot as plt\n",
    "\n",
    "plt.figure()\n",
    "plt.scatter(data_sorted['x'], data_sorted['y'])\n",
    "plt.xlabel('x'); plt.ylabel('y'); plt.title('y vs x')\n",
    "plt.tight_layout(); plt.show()"
   ]
  },
  {
   "cell_type": "code",
   "execution_count": 148,
   "id": "15e8e0a5",
   "metadata": {},
   "outputs": [
    {
     "data": {
      "text/plain": [
       "((70, 3), (30, 3))"
      ]
     },
     "execution_count": 148,
     "metadata": {},
     "output_type": "execute_result"
    }
   ],
   "source": [
    "# Train/test split\n",
    "split = int(0.7 * n)\n",
    "train, test = data.iloc[:split].copy(), data.iloc[split:].copy()\n",
    "train.shape, test.shape"
   ]
  },
  {
   "cell_type": "code",
   "execution_count": 149,
   "id": "ea7637af",
   "metadata": {},
   "outputs": [
    {
     "data": {
      "application/vnd.microsoft.datawrangler.viewer.v0+json": {
       "columns": [
        {
         "name": "index",
         "rawType": "int64",
         "type": "integer"
        },
        {
         "name": "x",
         "rawType": "float64",
         "type": "float"
        },
        {
         "name": "y",
         "rawType": "float64",
         "type": "float"
        },
        {
         "name": "y_true",
         "rawType": "float64",
         "type": "float"
        }
       ],
       "ref": "7ef3fbd1-f8cf-4223-a2bd-276e0371a809",
       "rows": [
        [
         "0",
         "0.0",
         "1.333623837276387",
         "2.0"
        ],
        [
         "1",
         "0.050505050505050504",
         "2.043467748571213",
         "2.0356678527763385"
        ],
        [
         "2",
         "0.10101010101010101",
         "1.9102810973076363",
         "2.0719718034135144"
        ],
        [
         "3",
         "0.15151515151515152",
         "1.7701653633894074",
         "2.1089231960339534"
        ],
        [
         "4",
         "0.20202020202020202",
         "1.4139735833804394",
         "2.1465335770703255"
        ]
       ],
       "shape": {
        "columns": 3,
        "rows": 5
       }
      },
      "text/html": [
       "<div>\n",
       "<style scoped>\n",
       "    .dataframe tbody tr th:only-of-type {\n",
       "        vertical-align: middle;\n",
       "    }\n",
       "\n",
       "    .dataframe tbody tr th {\n",
       "        vertical-align: top;\n",
       "    }\n",
       "\n",
       "    .dataframe thead th {\n",
       "        text-align: right;\n",
       "    }\n",
       "</style>\n",
       "<table border=\"1\" class=\"dataframe\">\n",
       "  <thead>\n",
       "    <tr style=\"text-align: right;\">\n",
       "      <th></th>\n",
       "      <th>x</th>\n",
       "      <th>y</th>\n",
       "      <th>y_true</th>\n",
       "    </tr>\n",
       "  </thead>\n",
       "  <tbody>\n",
       "    <tr>\n",
       "      <th>0</th>\n",
       "      <td>0.000000</td>\n",
       "      <td>1.333624</td>\n",
       "      <td>2.000000</td>\n",
       "    </tr>\n",
       "    <tr>\n",
       "      <th>1</th>\n",
       "      <td>0.050505</td>\n",
       "      <td>2.043468</td>\n",
       "      <td>2.035668</td>\n",
       "    </tr>\n",
       "    <tr>\n",
       "      <th>2</th>\n",
       "      <td>0.101010</td>\n",
       "      <td>1.910281</td>\n",
       "      <td>2.071972</td>\n",
       "    </tr>\n",
       "    <tr>\n",
       "      <th>3</th>\n",
       "      <td>0.151515</td>\n",
       "      <td>1.770165</td>\n",
       "      <td>2.108923</td>\n",
       "    </tr>\n",
       "    <tr>\n",
       "      <th>4</th>\n",
       "      <td>0.202020</td>\n",
       "      <td>1.413974</td>\n",
       "      <td>2.146534</td>\n",
       "    </tr>\n",
       "  </tbody>\n",
       "</table>\n",
       "</div>"
      ],
      "text/plain": [
       "          x         y    y_true\n",
       "0  0.000000  1.333624  2.000000\n",
       "1  0.050505  2.043468  2.035668\n",
       "2  0.101010  1.910281  2.071972\n",
       "3  0.151515  1.770165  2.108923\n",
       "4  0.202020  1.413974  2.146534"
      ]
     },
     "execution_count": 149,
     "metadata": {},
     "output_type": "execute_result"
    }
   ],
   "source": [
    "train.head()"
   ]
  },
  {
   "cell_type": "code",
   "execution_count": 150,
   "id": "f97ab349",
   "metadata": {},
   "outputs": [
    {
     "data": {
      "text/plain": [
       "(70, 3)"
      ]
     },
     "execution_count": 150,
     "metadata": {},
     "output_type": "execute_result"
    }
   ],
   "source": [
    "train.shape"
   ]
  },
  {
   "cell_type": "code",
   "execution_count": 151,
   "id": "1707f1c4",
   "metadata": {},
   "outputs": [
    {
     "data": {
      "image/png": "[encoded data removed]",
      "text/plain": [
       "<Figure size 800x600 with 1 Axes>"
      ]
     },
     "metadata": {},
     "output_type": "display_data"
    }
   ],
   "source": [
    "# Plot: y y y_true vs x \n",
    "plt.figure(figsize=(8,6))\n",
    "plt.scatter(data[\"x\"], data[\"y\"], label=\"y (observado)\", color=\"gray\", s=10, alpha=0.7)\n",
    "plt.plot(data[\"x\"], data[\"y_true\"], label=\"y_true (verdadero)\", color=\"blue\", linewidth=2)\n",
    "plt.xlabel(\"x\")\n",
    "plt.ylabel(\"y / y_true\")\n",
    "plt.title(\"Comparación: y observado vs y_true respecto a x\")\n",
    "plt.legend()\n",
    "plt.show()"
   ]
  },
  {
   "cell_type": "markdown",
   "id": "cfac758f",
   "metadata": {},
   "source": [
    "### OLS: estimación e inferencia (especificado erronea)"
   ]
  },
  {
   "cell_type": "markdown",
   "id": "72798387",
   "metadata": {},
   "source": [
    "#### OLS lineal (modelo mal especificado para un DGP exponencial)\n",
    "\n",
    "**Modelo estimado (lineal en parámetros):**\n",
    "$$\n",
    "y_t \\;=\\; b_0 + b_1 x_t + u_t,\\qquad \\widehat{\\beta}_{\\text{OLS}} = (X'X)^{-1}X'y,\n",
    "$$\n",
    "con $X=[\\mathbf{1},\\, x]$.\n",
    "\n",
    "**Varianzas:**\n",
    "- Homocedástico: $$\\widehat{\\mathrm{Var}}(\\widehat{\\beta})=\\hat\\sigma^2 (X'X)^{-1},\\quad \\hat\\sigma^2=\\frac{\\sum_t \\hat u_t^2}{T-p}.$$\n",
    "- Robusto White/HAC (series de tiempo):  \n",
    "$$\n",
    "\\widehat{\\mathrm{Var}}_{\\text{HAC}}(\\widehat{\\beta})=(X'X)^{-1}\n",
    "\\left(\\sum_{h=-L}^{L}k(h,L)\\,\\Gamma_h\\right)(X'X)^{-1},\n",
    "\\quad \\Gamma_h=\\sum_t \\hat u_t \\hat u_{t-h} X_t X_{t-h}'.\n",
    "$$\n",
    "\n",
    "**Advertencia.** Como la media verdadera es exponencial, OLS está **mal especificado** globalmente. Puede aproximar en rangos pequeños de $x_t$, pero generará **curvatura residual** y posible **heterocedasticidad**.\n"
   ]
  },
  {
   "cell_type": "code",
   "execution_count": 152,
   "id": "839f049c",
   "metadata": {},
   "outputs": [],
   "source": [
    "# OLS lineal: y_t ~ 1 + x_t  (modelo mal especificado)\n",
    "# Recomendación en series de tiempo: siempre reportar SE robustos (HAC/Newey-West)\n",
    "# para evitar inferencia optimista por autocorrelación/heterocedasticidad.\n",
    "\n",
    "# 2) OLS: y = b0 + b1 x + u\n",
    "def fit_ols(df):\n",
    "    X = np.column_stack((np.ones(len(df)), df[\"x\"].to_numpy()))  # Matriz de regresores: [1, x]\n",
    "    yv = df[\"y\"].to_numpy()                                      # Vector de dependiente y\n",
    "    beta_hat = lstsq(X, yv, rcond=None)[0]                       # Estimación OLS por mínimos cuadrados\n",
    "    resid = yv - X @ beta_hat                                    # Residuos e = y - Xβ\n",
    "    n, p = X.shape                                               # n: obs; p: nº de parámetros\n",
    "    s2 = (resid @ resid) / (n - p)                               # Varianza residual homocedástica σ² = e'e/(n-p)\n",
    "    cov_homo = s2 * inv(X.T @ X)                                 # Var(β̂) homocedástica = σ² (X'X)^{-1}\n",
    "    S = (X * resid[:, None]).T @ (X)                             # X' diag(e²) X  (matriz de White)\n",
    "    cov_white = inv(X.T @ X) @ S @ inv(X.T @ X)                  # Var(β̂) robusta a heterocedasticidad (White)\n",
    "    \n",
    "    return {\"beta\": beta_hat, \"resid\": resid, \"X\": X, \"sigma2\": s2,\n",
    "            \"cov_homo\": cov_homo, \"cov_white\": cov_white, \"fitted\": X @ beta_hat}\n",
    "\n",
    "ols_tr = fit_ols(train)\n",
    "ols_te_pred = np.column_stack((np.ones(len(test)), test[\"x\"].to_numpy())) @ ols_tr[\"beta\"]"
   ]
  },
  {
   "cell_type": "code",
   "execution_count": 153,
   "id": "9fc807e0",
   "metadata": {},
   "outputs": [
    {
     "data": {
      "application/vnd.microsoft.datawrangler.viewer.v0+json": {
       "columns": [
        {
         "name": "index",
         "rawType": "int64",
         "type": "integer"
        },
        {
         "name": "x",
         "rawType": "float64",
         "type": "float"
        },
        {
         "name": "y",
         "rawType": "float64",
         "type": "float"
        },
        {
         "name": "y_true",
         "rawType": "float64",
         "type": "float"
        }
       ],
       "ref": "022592d8-6511-4582-b45c-16f592faf34c",
       "rows": [
        [
         "0",
         "0.0",
         "1.333623837276387",
         "2.0"
        ],
        [
         "1",
         "0.050505050505050504",
         "2.043467748571213",
         "2.0356678527763385"
        ],
        [
         "2",
         "0.10101010101010101",
         "1.9102810973076363",
         "2.0719718034135144"
        ],
        [
         "3",
         "0.15151515151515152",
         "1.7701653633894074",
         "2.1089231960339534"
        ],
        [
         "4",
         "0.20202020202020202",
         "1.4139735833804394",
         "2.1465335770703255"
        ],
        [
         "5",
         "0.25252525252525254",
         "2.414432119821989",
         "2.1848146988735317"
        ],
        [
         "6",
         "0.30303030303030304",
         "1.9958657197700487",
         "2.2237785233850325"
        ],
        [
         "7",
         "0.35353535353535354",
         "2.343536084352848",
         "2.263437225874673"
        ],
        [
         "8",
         "0.40404040404040403",
         "2.514337454310695",
         "2.303803198745164"
        ],
        [
         "9",
         "0.45454545454545453",
         "2.432525450150124",
         "2.344889055404414"
        ],
        [
         "10",
         "0.5050505050505051",
         "2.327279709054355",
         "2.3867076342069202"
        ],
        [
         "11",
         "0.5555555555555556",
         "2.626903381472918",
         "2.4292720024654484"
        ],
        [
         "12",
         "0.6060606060606061",
         "2.6285826898351683",
         "2.472595460534258"
        ],
        [
         "13",
         "0.6565656565656566",
         "2.696394971535304",
         "2.516691545965147"
        ],
        [
         "14",
         "0.7070707070707071",
         "2.066099751714694",
         "2.5615740377376177"
        ],
        [
         "15",
         "0.7575757575757576",
         "2.4895247507666705",
         "2.607256960564476"
        ],
        [
         "16",
         "0.8080808080808081",
         "2.4505595016280743",
         "2.6537545892742247"
        ],
        [
         "17",
         "0.8585858585858586",
         "3.5818846829811335",
         "2.7010814532716076"
        ],
        [
         "18",
         "0.9090909090909091",
         "2.5498641732079013",
         "2.749252341077703"
        ],
        [
         "19",
         "0.9595959595959596",
         "3.1755213383451224",
         "2.798282304950985"
        ],
        [
         "20",
         "1.0101010101010102",
         "2.343854501129313",
         "2.8481866655907977"
        ],
        [
         "21",
         "1.0606060606060606",
         "2.779108978826983",
         "2.8989810169247088"
        ],
        [
         "22",
         "1.1111111111111112",
         "2.520860204849297",
         "2.9506812309812447"
        ],
        [
         "23",
         "1.1616161616161615",
         "3.061186197645279",
         "3.0033034628495168"
        ],
        [
         "24",
         "1.2121212121212122",
         "3.6008714105822515",
         "3.0568641557273093"
        ],
        [
         "25",
         "1.2626262626262625",
         "2.8438656898966737",
         "3.111380046059183"
        ],
        [
         "26",
         "1.3131313131313131",
         "3.403732805198613",
         "3.1668681687662215"
        ],
        [
         "27",
         "1.3636363636363635",
         "3.4556739407947203",
         "3.2233458625690345"
        ],
        [
         "28",
         "1.4141414141414141",
         "3.4729162470012542",
         "3.280830775405701"
        ],
        [
         "29",
         "1.4646464646464645",
         "3.2714538313915726",
         "3.3393408699463265"
        ],
        [
         "30",
         "1.5151515151515151",
         "3.3523609716526974",
         "3.3988944292059546"
        ],
        [
         "31",
         "1.5656565656565655",
         "3.5002401866548936",
         "3.4595100622575723"
        ],
        [
         "32",
         "1.6161616161616161",
         "3.5833439023340117",
         "3.521206710047005"
        ],
        [
         "33",
         "1.6666666666666667",
         "3.630987084903033",
         "3.584003651311511"
        ],
        [
         "34",
         "1.7171717171717171",
         "3.8816210090871737",
         "3.6479205086039306"
        ],
        [
         "35",
         "1.7676767676767677",
         "3.6750519617411657",
         "3.7129772544242656"
        ],
        [
         "36",
         "1.8181818181818181",
         "3.943202660259576",
         "3.7791942174606152"
        ],
        [
         "37",
         "1.8686868686868687",
         "3.9378994436303345",
         "3.846592088941403"
        ],
        [
         "38",
         "1.9191919191919191",
         "3.5786679576073994",
         "3.915191929100898"
        ],
        [
         "39",
         "1.9696969696969697",
         "3.7103016544051566",
         "3.985015173760038"
        ],
        [
         "40",
         "2.0202020202020203",
         "4.226291667208057",
         "4.056083641024613"
        ],
        [
         "41",
         "2.0707070707070705",
         "4.273745153218423",
         "4.128419538102903"
        ],
        [
         "42",
         "2.121212121212121",
         "4.526767019283874",
         "4.2020454682449095"
        ],
        [
         "43",
         "2.1717171717171717",
         "3.6064927881845787",
         "4.27698443780533"
        ],
        [
         "44",
         "2.2222222222222223",
         "4.537377594873269",
         "4.353259863432497"
        ],
        [
         "45",
         "2.2727272727272725",
         "3.7071510495701068",
         "4.430895579385523"
        ],
        [
         "46",
         "2.323232323232323",
         "4.493058098546097",
         "4.509915844981949"
        ],
        [
         "47",
         "2.3737373737373737",
         "3.84615812680243",
         "4.590345352178196"
        ],
        [
         "48",
         "2.4242424242424243",
         "5.076693807858147",
         "4.672209233285217"
        ],
        [
         "49",
         "2.474747474747475",
         "4.497890244015547",
         "4.755533068821751"
        ]
       ],
       "shape": {
        "columns": 3,
        "rows": 70
       }
      },
      "text/html": [
       "<div>\n",
       "<style scoped>\n",
       "    .dataframe tbody tr th:only-of-type {\n",
       "        vertical-align: middle;\n",
       "    }\n",
       "\n",
       "    .dataframe tbody tr th {\n",
       "        vertical-align: top;\n",
       "    }\n",
       "\n",
       "    .dataframe thead th {\n",
       "        text-align: right;\n",
       "    }\n",
       "</style>\n",
       "<table border=\"1\" class=\"dataframe\">\n",
       "  <thead>\n",
       "    <tr style=\"text-align: right;\">\n",
       "      <th></th>\n",
       "      <th>x</th>\n",
       "      <th>y</th>\n",
       "      <th>y_true</th>\n",
       "    </tr>\n",
       "  </thead>\n",
       "  <tbody>\n",
       "    <tr>\n",
       "      <th>0</th>\n",
       "      <td>0.000000</td>\n",
       "      <td>1.333624</td>\n",
       "      <td>2.000000</td>\n",
       "    </tr>\n",
       "    <tr>\n",
       "      <th>1</th>\n",
       "      <td>0.050505</td>\n",
       "      <td>2.043468</td>\n",
       "      <td>2.035668</td>\n",
       "    </tr>\n",
       "    <tr>\n",
       "      <th>2</th>\n",
       "      <td>0.101010</td>\n",
       "      <td>1.910281</td>\n",
       "      <td>2.071972</td>\n",
       "    </tr>\n",
       "    <tr>\n",
       "      <th>3</th>\n",
       "      <td>0.151515</td>\n",
       "      <td>1.770165</td>\n",
       "      <td>2.108923</td>\n",
       "    </tr>\n",
       "    <tr>\n",
       "      <th>4</th>\n",
       "      <td>0.202020</td>\n",
       "      <td>1.413974</td>\n",
       "      <td>2.146534</td>\n",
       "    </tr>\n",
       "    <tr>\n",
       "      <th>...</th>\n",
       "      <td>...</td>\n",
       "      <td>...</td>\n",
       "      <td>...</td>\n",
       "    </tr>\n",
       "    <tr>\n",
       "      <th>65</th>\n",
       "      <td>3.282828</td>\n",
       "      <td>6.144584</td>\n",
       "      <td>6.310009</td>\n",
       "    </tr>\n",
       "    <tr>\n",
       "      <th>66</th>\n",
       "      <td>3.333333</td>\n",
       "      <td>6.730419</td>\n",
       "      <td>6.422541</td>\n",
       "    </tr>\n",
       "    <tr>\n",
       "      <th>67</th>\n",
       "      <td>3.383838</td>\n",
       "      <td>6.217262</td>\n",
       "      <td>6.537080</td>\n",
       "    </tr>\n",
       "    <tr>\n",
       "      <th>68</th>\n",
       "      <td>3.434343</td>\n",
       "      <td>6.964991</td>\n",
       "      <td>6.653662</td>\n",
       "    </tr>\n",
       "    <tr>\n",
       "      <th>69</th>\n",
       "      <td>3.484848</td>\n",
       "      <td>6.644883</td>\n",
       "      <td>6.772323</td>\n",
       "    </tr>\n",
       "  </tbody>\n",
       "</table>\n",
       "<p>70 rows × 3 columns</p>\n",
       "</div>"
      ],
      "text/plain": [
       "           x         y    y_true\n",
       "0   0.000000  1.333624  2.000000\n",
       "1   0.050505  2.043468  2.035668\n",
       "2   0.101010  1.910281  2.071972\n",
       "3   0.151515  1.770165  2.108923\n",
       "4   0.202020  1.413974  2.146534\n",
       "..       ...       ...       ...\n",
       "65  3.282828  6.144584  6.310009\n",
       "66  3.333333  6.730419  6.422541\n",
       "67  3.383838  6.217262  6.537080\n",
       "68  3.434343  6.964991  6.653662\n",
       "69  3.484848  6.644883  6.772323\n",
       "\n",
       "[70 rows x 3 columns]"
      ]
     },
     "execution_count": 153,
     "metadata": {},
     "output_type": "execute_result"
    }
   ],
   "source": [
    "train"
   ]
  },
  {
   "cell_type": "markdown",
   "id": "3c11ac31",
   "metadata": {},
   "source": [
    "## Log-OLS: cuándo sí y cómo retransformar"
   ]
  },
  {
   "cell_type": "markdown",
   "id": "85dffd39",
   "metadata": {},
   "source": [
    "## ¿Puedo log-linearizar? Solo si el error es multiplicativo\n",
    "\n",
    "Si el DGP fuera $y_t=\\alpha e^{\\beta x_t}\\cdot \\eta_t$ con $\\mathbb{E}[\\eta_t\\mid \\mathcal{F}_{t-1}]=1$ y $\\eta_t>0$:\n",
    "$$\n",
    "\\ln y_t = \\ln\\alpha + \\beta x_t + \\varepsilon_{\\log,t},\\qquad \\mathbb{E}[\\varepsilon_{\\log,t}\\mid \\mathcal{F}_{t-1}]=0.\n",
    "$$\n",
    "\n",
    "**Retransformación a $y$:**\n",
    "- Si $\\varepsilon_{\\log,t}\\sim \\mathcal{N}(0,\\sigma^2)$,\n",
    "$$\n",
    "\\widehat{y}_t = \\exp\\!\\big(\\widehat{\\ln\\alpha}+\\widehat\\beta x_t + \\widehat{\\sigma}^2/2\\big).\n",
    "$$\n",
    "\n",
    "\n",
    "**En esta seccion** el error es **aditivo**, por lo que el log solo sirve como **semilla numérica** para NLS.\n"
   ]
  },
  {
   "cell_type": "code",
   "execution_count": 154,
   "id": "92c9383c",
   "metadata": {},
   "outputs": [],
   "source": [
    "# 3) NLS: y = alpha * exp(beta x) + e  (Gauss–Newton)\n",
    "def nls_gauss_newton(df, theta0=None, max_iter=50, tol=1e-10):\n",
    "    x = df[\"x\"].to_numpy()                     # vector de regresor x\n",
    "    y = df[\"y\"].to_numpy()                     # vector de dependiente y\n",
    "    n = len(y)                                 # número de observaciones\n",
    "\n",
    "    if theta0 is None:                         # si no hay iniciales, las construimos\n",
    "        mask = y > 0                           # para evitar log de y<=0\n",
    "        X0 = np.column_stack((np.ones(mask.sum()), x[mask]))   # [1, x] en las obs válidas\n",
    "        bb = lstsq(X0, np.log(y[mask]), rcond=None)[0]         # OLS en log(y) ≈ log(alpha)+beta x\n",
    "        theta = np.array([np.exp(bb[0]), bb[1]])               # iniciales: alpha=exp(b0), beta=b1\n",
    "    else:\n",
    "        theta = np.array(theta0, dtype=float)  # usar iniciales provistas\n",
    "\n",
    "    history = []                               # para guardar trayectoria de iteraciones\n",
    "\n",
    "    for it in range(max_iter):                 # bucle de Gauss–Newton\n",
    "        a, b = theta                           # desempaquetar parámetros (alpha, beta)\n",
    "        e = np.exp(b * x)                      # exp(beta x)   (para reutilizar)\n",
    "        f = a * e                              # predicción f(theta) = alpha * exp(beta x)\n",
    "        r = y - f                              # residuos r = y - f(theta)\n",
    "        J = np.column_stack((e, a * x * e))    # Jacobiano de r: [∂r/∂alpha, ∂r/∂beta] = [-e, -a x e] con signo (-) absorbido en g\n",
    "        A = J.T @ J                            # aproximación Hessiana: J'J\n",
    "        g = J.T @ r                            # gradiente (con signo): J' r\n",
    "        try:\n",
    "            delta = solve(A, g)                # paso GN: (J'J) delta = J' r\n",
    "        except np.linalg.LinAlgError:\n",
    "            delta = lstsq(A, g, rcond=None)[0] # si A es singular, usar solución en mínimos cuadrados\n",
    "\n",
    "        theta_new = theta + delta              # actualizar parámetros\n",
    "        history.append({                       # registrar la iteración\n",
    "            \"iter\": it, \"alpha\": a, \"beta\": b,\n",
    "            \"RSS\": float(r.T @ r),             # suma de cuadrados residual\n",
    "            \"step_norm\": norm(delta)           # norma del paso\n",
    "        })\n",
    "        if norm(delta) < tol:                  # criterio de paro: paso muy pequeño\n",
    "            theta = theta_new\n",
    "            break\n",
    "        theta = theta_new                      # continuar iterando\n",
    "\n",
    "    # --- Estadísticos al final con theta óptimo ---\n",
    "    a, b = theta                               # parámetros finales\n",
    "    e = np.exp(b * x)                          # exp(beta x) con theta final\n",
    "    f = a * e                                  # valores ajustados\n",
    "    r = y - f                                  # residuos finales\n",
    "    J = np.column_stack((e, a * x * e))        # Jacobiano final\n",
    "    p = 2                                      # número de parámetros (alpha, beta)\n",
    "    sigma2 = (r @ r) / (n - p)                 # varianza residual homocedástica σ² = RSS/(n-p)\n",
    "    cov_homo = sigma2 * inv(J.T @ J)           # Var(θ̂) homocedástica ≈ σ² (J'J)^{-1}\n",
    "    cov_white = inv(J.T @ J) @ (J.T @ (J * (r[:, None]**2))) @ inv(J.T @ J)\n",
    "                                               # Var(θ̂) robusta (White): (J'J)^{-1} J' diag(r^2) J (J'J)^{-1}\n",
    "\n",
    "    return {                                   # devolver resultados\n",
    "        \"theta\": theta,                        # parámetros estimados (alpha, beta)\n",
    "        \"resid\": r,                            # residuos\n",
    "        \"J\": J,                                # Jacobiano\n",
    "        \"sigma2\": sigma2,                      # σ² homocedástico\n",
    "        \"cov_homo\": cov_homo,                  # matriz de varianza homocedástica\n",
    "        \"cov_white\": cov_white,                # matriz de varianza robusta (White)\n",
    "        \"fitted\": f,                           # valores ajustados\n",
    "        \"history\": pd.DataFrame(history)       # trayectoria de iteraciones\n",
    "    }\n",
    "\n",
    "# Estimación en el conjunto de entrenamiento\n",
    "nls_tr = nls_gauss_newton(train)\n",
    "\n",
    "# Función de predicción con los parámetros NLS\n",
    "def nls_predict(x, theta):\n",
    "    return theta[0] * np.exp(theta[1] * x)     # ŷ = alpha * exp(beta x)\n",
    "\n",
    "# Predicciones en test usando los parámetros entrenados\n",
    "nls_te_pred = nls_predict(test[\"x\"].to_numpy(), nls_tr[\"theta\"])\n"
   ]
  },
  {
   "cell_type": "code",
   "execution_count": 155,
   "id": "bb996636",
   "metadata": {},
   "outputs": [],
   "source": [
    "# 4) Métricas de ajuste (in-sample)\n",
    "def metrics(df, fitted, params, cov_homo, name):\n",
    "    y = df[\"y\"].to_numpy()                       # valores observados\n",
    "    resid = y - fitted                           # residuos = y - ŷ\n",
    "    n = len(y); k = len(params)                  # n: obs; k: nº de parámetros estimados\n",
    "    sse = resid @ resid                          # SSE = ∑ residuos^2\n",
    "    sst = ((y - y.mean()) @ (y - y.mean()))      # SST = ∑ (y - ȳ)^2\n",
    "    r2 = 1 - sse/sst                             # R² (o pseudo-R²) = 1 - SSE/SST\n",
    "    rmse = np.sqrt(sse / n)                      # RMSE = √(SSE/n)\n",
    "    aic = n * np.log(sse / n) + 2 * k            # AIC para errores ~N(0,σ²): n ln(RSS/n) + 2k\n",
    "    bic = n * np.log(sse / n) + np.log(n) * k    # BIC (Schwarz): n ln(RSS/n) + k ln n\n",
    "    # Nota: 'cov_homo' no se usa aquí, pero puede servir para EE o tests luego.\n",
    "    return pd.Series({\n",
    "        \"model\": name, \"n\": n, \"k\": k,           # nombre, tamaño muestral y nº de parámetros\n",
    "        \"SSE\": sse, \"RMSE\": rmse,                # medidas de error\n",
    "        \"R2_or_pseudoR2\": r2,                    # R² in-sample\n",
    "        \"AIC\": aic, \"BIC\": bic                   # criterios de información\n",
    "    })\n",
    "\n",
    "# Métricas in-sample para OLS y NLS en el conjunto de entrenamiento\n",
    "met_ols_tr = metrics(train, ols_tr[\"fitted\"], ols_tr[\"beta\"], ols_tr[\"cov_homo\"], \"OLS (train)\")\n",
    "met_nls_tr = metrics(train, nls_tr[\"fitted\"], nls_tr[\"theta\"], nls_tr[\"cov_homo\"], \"NLS (train)\")\n"
   ]
  },
  {
   "cell_type": "code",
   "execution_count": 156,
   "id": "50113cf8",
   "metadata": {},
   "outputs": [],
   "source": [
    "def test_metrics(df, yhat, name):\n",
    "    y = df[\"y\"].to_numpy()                              # vector de valores reales\n",
    "    resid = y - yhat                                    # residuos = y - ŷ\n",
    "    n = len(y)                                          # número de observaciones\n",
    "    sse = resid @ resid                                 # SSE = ∑ residuos^2\n",
    "    sst = ((y - y.mean()) @ (y - y.mean()))             # SST = ∑ (y - ȳ)^2\n",
    "    r2 = 1 - sse/sst                                    # R² (o pseudo-R²) = 1 - SSE/SST\n",
    "    rmse = np.sqrt(sse / n)                             # RMSE = √(SSE/n)\n",
    "    return pd.Series({                                   # devuelve métricas como Serie\n",
    "        \"model\": name,                                  # nombre del modelo\n",
    "        \"n\": n,                                         # tamaño de la muestra\n",
    "        \"SSE\": sse,                                     # suma de cuadrados de errores\n",
    "        \"RMSE\": rmse,                                   # raíz del error cuadrático medio\n",
    "        \"R2_or_pseudoR2\": r2                            # R² (o pseudo-R² si baseline no aplica)\n",
    "    })\n",
    "\n",
    "met_ols_te = test_metrics(test, ols_te_pred, \"OLS (test)\")   # métricas en test para OLS\n",
    "met_nls_te = test_metrics(test, nls_te_pred, \"NLS (test)\")   # métricas en test para NLS\n"
   ]
  },
  {
   "cell_type": "code",
   "execution_count": 120,
   "id": "554faf7a",
   "metadata": {},
   "outputs": [
    {
     "name": "stdout",
     "output_type": "stream",
     "text": [
      "Comparative metrics: OLS vs NLS\n"
     ]
    },
    {
     "data": {
      "application/vnd.microsoft.datawrangler.viewer.v0+json": {
       "columns": [
        {
         "name": "index",
         "rawType": "int64",
         "type": "integer"
        },
        {
         "name": "model",
         "rawType": "object",
         "type": "string"
        },
        {
         "name": "n",
         "rawType": "int64",
         "type": "integer"
        },
        {
         "name": "k",
         "rawType": "float64",
         "type": "float"
        },
        {
         "name": "SSE",
         "rawType": "float64",
         "type": "float"
        },
        {
         "name": "RMSE",
         "rawType": "float64",
         "type": "float"
        },
        {
         "name": "R2_or_pseudoR2",
         "rawType": "float64",
         "type": "float"
        },
        {
         "name": "AIC",
         "rawType": "float64",
         "type": "float"
        },
        {
         "name": "BIC",
         "rawType": "float64",
         "type": "float"
        }
       ],
       "ref": "60b6f119-a01a-4ad5-9c4a-0c97b2448224",
       "rows": [
        [
         "0",
         "OLS (train)",
         "140",
         "2.0",
         "20.3",
         "0.38",
         "0.93",
         "-266.37",
         "-260.49"
        ],
        [
         "1",
         "NLS (train)",
         "140",
         "2.0",
         "16.2",
         "0.34",
         "0.94",
         "-297.9",
         "-292.01"
        ],
        [
         "2",
         "OLS (test)",
         "60",
         null,
         "222.08",
         "1.92",
         "-0.65",
         null,
         null
        ],
        [
         "3",
         "NLS (test)",
         "60",
         null,
         "6.25",
         "0.32",
         "0.95",
         null,
         null
        ]
       ],
       "shape": {
        "columns": 8,
        "rows": 4
       }
      },
      "text/html": [
       "<div>\n",
       "<style scoped>\n",
       "    .dataframe tbody tr th:only-of-type {\n",
       "        vertical-align: middle;\n",
       "    }\n",
       "\n",
       "    .dataframe tbody tr th {\n",
       "        vertical-align: top;\n",
       "    }\n",
       "\n",
       "    .dataframe thead th {\n",
       "        text-align: right;\n",
       "    }\n",
       "</style>\n",
       "<table border=\"1\" class=\"dataframe\">\n",
       "  <thead>\n",
       "    <tr style=\"text-align: right;\">\n",
       "      <th></th>\n",
       "      <th>model</th>\n",
       "      <th>n</th>\n",
       "      <th>k</th>\n",
       "      <th>SSE</th>\n",
       "      <th>RMSE</th>\n",
       "      <th>R2_or_pseudoR2</th>\n",
       "      <th>AIC</th>\n",
       "      <th>BIC</th>\n",
       "    </tr>\n",
       "  </thead>\n",
       "  <tbody>\n",
       "    <tr>\n",
       "      <th>0</th>\n",
       "      <td>OLS (train)</td>\n",
       "      <td>140</td>\n",
       "      <td>2.0</td>\n",
       "      <td>20.30</td>\n",
       "      <td>0.38</td>\n",
       "      <td>0.93</td>\n",
       "      <td>-266.37</td>\n",
       "      <td>-260.49</td>\n",
       "    </tr>\n",
       "    <tr>\n",
       "      <th>1</th>\n",
       "      <td>NLS (train)</td>\n",
       "      <td>140</td>\n",
       "      <td>2.0</td>\n",
       "      <td>16.20</td>\n",
       "      <td>0.34</td>\n",
       "      <td>0.94</td>\n",
       "      <td>-297.90</td>\n",
       "      <td>-292.01</td>\n",
       "    </tr>\n",
       "    <tr>\n",
       "      <th>2</th>\n",
       "      <td>OLS (test)</td>\n",
       "      <td>60</td>\n",
       "      <td>NaN</td>\n",
       "      <td>222.08</td>\n",
       "      <td>1.92</td>\n",
       "      <td>-0.65</td>\n",
       "      <td>NaN</td>\n",
       "      <td>NaN</td>\n",
       "    </tr>\n",
       "    <tr>\n",
       "      <th>3</th>\n",
       "      <td>NLS (test)</td>\n",
       "      <td>60</td>\n",
       "      <td>NaN</td>\n",
       "      <td>6.25</td>\n",
       "      <td>0.32</td>\n",
       "      <td>0.95</td>\n",
       "      <td>NaN</td>\n",
       "      <td>NaN</td>\n",
       "    </tr>\n",
       "  </tbody>\n",
       "</table>\n",
       "</div>"
      ],
      "text/plain": [
       "         model    n    k     SSE  RMSE  R2_or_pseudoR2     AIC     BIC\n",
       "0  OLS (train)  140  2.0   20.30  0.38            0.93 -266.37 -260.49\n",
       "1  NLS (train)  140  2.0   16.20  0.34            0.94 -297.90 -292.01\n",
       "2   OLS (test)   60  NaN  222.08  1.92           -0.65     NaN     NaN\n",
       "3   NLS (test)   60  NaN    6.25  0.32            0.95     NaN     NaN"
      ]
     },
     "execution_count": 120,
     "metadata": {},
     "output_type": "execute_result"
    }
   ],
   "source": [
    "summary = pd.DataFrame([met_ols_tr, met_nls_tr, met_ols_te, met_nls_te])\n",
    "print(\"Comparative metrics: OLS vs NLS\")\n",
    "summary.round(2)"
   ]
  },
  {
   "cell_type": "code",
   "execution_count": 157,
   "id": "155a5c89",
   "metadata": {},
   "outputs": [
    {
     "name": "stdout",
     "output_type": "stream",
     "text": [
      "OLS parameter estimates        param  estimate  SE_homoskedastic  SE_robust_White\n",
      "0  Intercept  1.526034          0.089879         0.079402\n",
      "1          x  1.361931          0.044511         0.045570\n"
     ]
    },
    {
     "data": {
      "application/vnd.microsoft.datawrangler.viewer.v0+json": {
       "columns": [
        {
         "name": "index",
         "rawType": "int64",
         "type": "integer"
        },
        {
         "name": "param",
         "rawType": "object",
         "type": "string"
        },
        {
         "name": "estimate",
         "rawType": "float64",
         "type": "float"
        },
        {
         "name": "SE_homoskedastic",
         "rawType": "float64",
         "type": "float"
        },
        {
         "name": "SE_robust_White",
         "rawType": "float64",
         "type": "float"
        }
       ],
       "ref": "6f1ba8e7-6666-4eec-a8e4-f021d4ac0154",
       "rows": [
        [
         "0",
         "Intercept",
         "1.526",
         "0.09",
         "0.079"
        ],
        [
         "1",
         "x",
         "1.362",
         "0.045",
         "0.046"
        ]
       ],
       "shape": {
        "columns": 4,
        "rows": 2
       }
      },
      "text/html": [
       "<div>\n",
       "<style scoped>\n",
       "    .dataframe tbody tr th:only-of-type {\n",
       "        vertical-align: middle;\n",
       "    }\n",
       "\n",
       "    .dataframe tbody tr th {\n",
       "        vertical-align: top;\n",
       "    }\n",
       "\n",
       "    .dataframe thead th {\n",
       "        text-align: right;\n",
       "    }\n",
       "</style>\n",
       "<table border=\"1\" class=\"dataframe\">\n",
       "  <thead>\n",
       "    <tr style=\"text-align: right;\">\n",
       "      <th></th>\n",
       "      <th>param</th>\n",
       "      <th>estimate</th>\n",
       "      <th>SE_homoskedastic</th>\n",
       "      <th>SE_robust_White</th>\n",
       "    </tr>\n",
       "  </thead>\n",
       "  <tbody>\n",
       "    <tr>\n",
       "      <th>0</th>\n",
       "      <td>Intercept</td>\n",
       "      <td>1.526</td>\n",
       "      <td>0.090</td>\n",
       "      <td>0.079</td>\n",
       "    </tr>\n",
       "    <tr>\n",
       "      <th>1</th>\n",
       "      <td>x</td>\n",
       "      <td>1.362</td>\n",
       "      <td>0.045</td>\n",
       "      <td>0.046</td>\n",
       "    </tr>\n",
       "  </tbody>\n",
       "</table>\n",
       "</div>"
      ],
      "text/plain": [
       "       param  estimate  SE_homoskedastic  SE_robust_White\n",
       "0  Intercept     1.526             0.090            0.079\n",
       "1          x     1.362             0.045            0.046"
      ]
     },
     "execution_count": 157,
     "metadata": {},
     "output_type": "execute_result"
    }
   ],
   "source": [
    "ols_params = pd.DataFrame({\n",
    "    \"param\": [\"Intercept\", \"x\"],\n",
    "    \"estimate\": ols_tr[\"beta\"],\n",
    "    \"SE_homoskedastic\": np.sqrt(np.diag(ols_tr[\"cov_homo\"])),\n",
    "    \"SE_robust_White\": np.sqrt(np.diag(ols_tr[\"cov_white\"]))\n",
    "})\n",
    "\n",
    "print(\"OLS parameter estimates\", ols_params)\n",
    "ols_params.round(3)"
   ]
  },
  {
   "cell_type": "code",
   "execution_count": 122,
   "id": "ddbf354c",
   "metadata": {},
   "outputs": [
    {
     "name": "stdout",
     "output_type": "stream",
     "text": [
      "NLS parameter estimates    param  estimate  SE_homoskedastic  SE_robust_White  true_value\n",
      "0  alpha  2.003041          0.040473         0.039895        2.00\n",
      "1   beta  0.348461          0.007895         0.007855        0.35\n"
     ]
    },
    {
     "data": {
      "application/vnd.microsoft.datawrangler.viewer.v0+json": {
       "columns": [
        {
         "name": "index",
         "rawType": "int64",
         "type": "integer"
        },
        {
         "name": "param",
         "rawType": "object",
         "type": "string"
        },
        {
         "name": "estimate",
         "rawType": "float64",
         "type": "float"
        },
        {
         "name": "SE_homoskedastic",
         "rawType": "float64",
         "type": "float"
        },
        {
         "name": "SE_robust_White",
         "rawType": "float64",
         "type": "float"
        },
        {
         "name": "true_value",
         "rawType": "float64",
         "type": "float"
        }
       ],
       "ref": "ae40547f-1b2f-48d4-820d-16d58d3ac1cc",
       "rows": [
        [
         "0",
         "alpha",
         "2.003",
         "0.04",
         "0.04",
         "2.0"
        ],
        [
         "1",
         "beta",
         "0.348",
         "0.008",
         "0.008",
         "0.35"
        ]
       ],
       "shape": {
        "columns": 5,
        "rows": 2
       }
      },
      "text/html": [
       "<div>\n",
       "<style scoped>\n",
       "    .dataframe tbody tr th:only-of-type {\n",
       "        vertical-align: middle;\n",
       "    }\n",
       "\n",
       "    .dataframe tbody tr th {\n",
       "        vertical-align: top;\n",
       "    }\n",
       "\n",
       "    .dataframe thead th {\n",
       "        text-align: right;\n",
       "    }\n",
       "</style>\n",
       "<table border=\"1\" class=\"dataframe\">\n",
       "  <thead>\n",
       "    <tr style=\"text-align: right;\">\n",
       "      <th></th>\n",
       "      <th>param</th>\n",
       "      <th>estimate</th>\n",
       "      <th>SE_homoskedastic</th>\n",
       "      <th>SE_robust_White</th>\n",
       "      <th>true_value</th>\n",
       "    </tr>\n",
       "  </thead>\n",
       "  <tbody>\n",
       "    <tr>\n",
       "      <th>0</th>\n",
       "      <td>alpha</td>\n",
       "      <td>2.003</td>\n",
       "      <td>0.040</td>\n",
       "      <td>0.040</td>\n",
       "      <td>2.00</td>\n",
       "    </tr>\n",
       "    <tr>\n",
       "      <th>1</th>\n",
       "      <td>beta</td>\n",
       "      <td>0.348</td>\n",
       "      <td>0.008</td>\n",
       "      <td>0.008</td>\n",
       "      <td>0.35</td>\n",
       "    </tr>\n",
       "  </tbody>\n",
       "</table>\n",
       "</div>"
      ],
      "text/plain": [
       "   param  estimate  SE_homoskedastic  SE_robust_White  true_value\n",
       "0  alpha     2.003             0.040            0.040        2.00\n",
       "1   beta     0.348             0.008            0.008        0.35"
      ]
     },
     "execution_count": 122,
     "metadata": {},
     "output_type": "execute_result"
    }
   ],
   "source": [
    "nls_params = pd.DataFrame({\n",
    "    \"param\": [\"alpha\", \"beta\"],\n",
    "    \"estimate\": nls_tr[\"theta\"],\n",
    "    \"SE_homoskedastic\": np.sqrt(np.diag(nls_tr[\"cov_homo\"])),\n",
    "    \"SE_robust_White\": np.sqrt(np.diag(nls_tr[\"cov_white\"])),\n",
    "    \"true_value\": [alpha_true, beta_true]\n",
    "})\n",
    "\n",
    "print(\"NLS parameter estimates\", nls_params)\n",
    "nls_params.round(3)"
   ]
  },
  {
   "cell_type": "code",
   "execution_count": 123,
   "id": "f4d18944",
   "metadata": {},
   "outputs": [
    {
     "name": "stdout",
     "output_type": "stream",
     "text": [
      "NLS Gauss–Newton history\n"
     ]
    },
    {
     "data": {
      "application/vnd.microsoft.datawrangler.viewer.v0+json": {
       "columns": [
        {
         "name": "index",
         "rawType": "int64",
         "type": "integer"
        },
        {
         "name": "iter",
         "rawType": "int64",
         "type": "integer"
        },
        {
         "name": "alpha",
         "rawType": "float64",
         "type": "float"
        },
        {
         "name": "beta",
         "rawType": "float64",
         "type": "float"
        },
        {
         "name": "RSS",
         "rawType": "float64",
         "type": "float"
        },
        {
         "name": "step_norm",
         "rawType": "float64",
         "type": "float"
        }
       ],
       "ref": "ffb23519-888e-4dee-b09b-0065961fdee2",
       "rows": [
        [
         "0",
         "0",
         "1.9481219319724365",
         "0.3597272800099891",
         "16.44406179566037",
         "0.0561775801793984"
        ],
        [
         "1",
         "1",
         "2.0031253997449907",
         "0.3483019114029668",
         "16.204186215672916",
         "0.0001849792106941535"
        ],
        [
         "2",
         "2",
         "2.003033581980447",
         "0.3484624941121955",
         "16.203860149382187",
         "7.394014244406527e-06"
        ],
        [
         "3",
         "3",
         "2.0030408156586494",
         "0.34846096265984383",
         "16.203860144993662",
         "6.964130705631427e-08"
        ],
        [
         "4",
         "4",
         "2.003040747475238",
         "0.3484609768349652",
         "16.2038601449933",
         "6.44667924742067e-10"
        ],
        [
         "5",
         "5",
         "2.0030407481064145",
         "0.34846097670376724",
         "16.203860144993293",
         "5.9666511607702014e-12"
        ]
       ],
       "shape": {
        "columns": 5,
        "rows": 6
       }
      },
      "text/html": [
       "<div>\n",
       "<style scoped>\n",
       "    .dataframe tbody tr th:only-of-type {\n",
       "        vertical-align: middle;\n",
       "    }\n",
       "\n",
       "    .dataframe tbody tr th {\n",
       "        vertical-align: top;\n",
       "    }\n",
       "\n",
       "    .dataframe thead th {\n",
       "        text-align: right;\n",
       "    }\n",
       "</style>\n",
       "<table border=\"1\" class=\"dataframe\">\n",
       "  <thead>\n",
       "    <tr style=\"text-align: right;\">\n",
       "      <th></th>\n",
       "      <th>iter</th>\n",
       "      <th>alpha</th>\n",
       "      <th>beta</th>\n",
       "      <th>RSS</th>\n",
       "      <th>step_norm</th>\n",
       "    </tr>\n",
       "  </thead>\n",
       "  <tbody>\n",
       "    <tr>\n",
       "      <th>0</th>\n",
       "      <td>0</td>\n",
       "      <td>1.948122</td>\n",
       "      <td>0.359727</td>\n",
       "      <td>16.444062</td>\n",
       "      <td>5.617758e-02</td>\n",
       "    </tr>\n",
       "    <tr>\n",
       "      <th>1</th>\n",
       "      <td>1</td>\n",
       "      <td>2.003125</td>\n",
       "      <td>0.348302</td>\n",
       "      <td>16.204186</td>\n",
       "      <td>1.849792e-04</td>\n",
       "    </tr>\n",
       "    <tr>\n",
       "      <th>2</th>\n",
       "      <td>2</td>\n",
       "      <td>2.003034</td>\n",
       "      <td>0.348462</td>\n",
       "      <td>16.203860</td>\n",
       "      <td>7.394014e-06</td>\n",
       "    </tr>\n",
       "    <tr>\n",
       "      <th>3</th>\n",
       "      <td>3</td>\n",
       "      <td>2.003041</td>\n",
       "      <td>0.348461</td>\n",
       "      <td>16.203860</td>\n",
       "      <td>6.964131e-08</td>\n",
       "    </tr>\n",
       "    <tr>\n",
       "      <th>4</th>\n",
       "      <td>4</td>\n",
       "      <td>2.003041</td>\n",
       "      <td>0.348461</td>\n",
       "      <td>16.203860</td>\n",
       "      <td>6.446679e-10</td>\n",
       "    </tr>\n",
       "    <tr>\n",
       "      <th>5</th>\n",
       "      <td>5</td>\n",
       "      <td>2.003041</td>\n",
       "      <td>0.348461</td>\n",
       "      <td>16.203860</td>\n",
       "      <td>5.966651e-12</td>\n",
       "    </tr>\n",
       "  </tbody>\n",
       "</table>\n",
       "</div>"
      ],
      "text/plain": [
       "   iter     alpha      beta        RSS     step_norm\n",
       "0     0  1.948122  0.359727  16.444062  5.617758e-02\n",
       "1     1  2.003125  0.348302  16.204186  1.849792e-04\n",
       "2     2  2.003034  0.348462  16.203860  7.394014e-06\n",
       "3     3  2.003041  0.348461  16.203860  6.964131e-08\n",
       "4     4  2.003041  0.348461  16.203860  6.446679e-10\n",
       "5     5  2.003041  0.348461  16.203860  5.966651e-12"
      ]
     },
     "execution_count": 123,
     "metadata": {},
     "output_type": "execute_result"
    }
   ],
   "source": [
    "print(\"NLS Gauss–Newton history\")\n",
    "nls_tr[\"history\"]"
   ]
  },
  {
   "cell_type": "code",
   "execution_count": 124,
   "id": "fdd8fd97",
   "metadata": {},
   "outputs": [],
   "source": [
    "# 5) Plots\n",
    "xs = data[\"x\"].to_numpy()\n",
    "ols_full_pred = np.column_stack((np.ones(len(xs)), xs)) @ ols_tr[\"beta\"]\n",
    "nls_full_pred = nls_predict(xs, nls_tr[\"theta\"])"
   ]
  },
  {
   "cell_type": "code",
   "execution_count": 125,
   "id": "cb1aa584",
   "metadata": {},
   "outputs": [
    {
     "data": {
      "image/png": "[encoded data removed]",
      "text/plain": [
       "<Figure size 640x480 with 1 Axes>"
      ]
     },
     "metadata": {},
     "output_type": "display_data"
    }
   ],
   "source": [
    "plt.figure()\n",
    "plt.scatter(data[\"x\"], data[\"y\"], label=\"datos\", color=\"lightgray\", s=10)\n",
    "plt.plot(xs, ols_full_pred, label=\"OLS ajustado\", color=\"red\")\n",
    "plt.plot(xs, nls_full_pred, label=\"NLS ajustado\", color=\"blue\")\n",
    "plt.xlabel(\"x\"); plt.ylabel(\"y\"); plt.title(\"Comparación de ajustes: OLS vs NLS\")\n",
    "plt.legend()\n",
    "plt.show()"
   ]
  },
  {
   "cell_type": "code",
   "execution_count": 126,
   "id": "ab4b6ec0",
   "metadata": {},
   "outputs": [
    {
     "data": {
      "image/png": "[encoded data removed]",
      "text/plain": [
       "<Figure size 640x480 with 1 Axes>"
      ]
     },
     "metadata": {},
     "output_type": "display_data"
    }
   ],
   "source": [
    "plt.figure()\n",
    "plt.scatter(ols_tr[\"fitted\"], train[\"y\"].to_numpy() - ols_tr[\"fitted\"])\n",
    "plt.axhline(0)\n",
    "plt.xlabel(\"fitted OLS\"); plt.ylabel(\"residuales\"); plt.title(\"Diagnóstico OLS: residuales vs fitted\")\n",
    "plt.show()"
   ]
  },
  {
   "cell_type": "code",
   "execution_count": 127,
   "id": "5354de8a",
   "metadata": {},
   "outputs": [
    {
     "data": {
      "image/png": "[encoded data removed]",
      "text/plain": [
       "<Figure size 640x480 with 1 Axes>"
      ]
     },
     "metadata": {},
     "output_type": "display_data"
    }
   ],
   "source": [
    "plt.figure()\n",
    "plt.scatter(nls_tr[\"fitted\"], train[\"y\"].to_numpy() - nls_tr[\"fitted\"])\n",
    "plt.axhline(0)\n",
    "plt.xlabel(\"fitted NLS\"); plt.ylabel(\"residuales\"); plt.title(\"Diagnóstico NLS: residuales vs fitted\")\n",
    "plt.show()"
   ]
  }
 ],
 "metadata": {
  "kernelspec": {
   "display_name": "Python 3",
   "language": "python",
   "name": "python3"
  },
  "language_info": {
   "codemirror_mode": {
    "name": "ipython",
    "version": 3
   },
   "file_extension": ".py",
   "mimetype": "text/x-python",
   "name": "python",
   "nbconvert_exporter": "python",
   "pygments_lexer": "ipython3",
   "version": "3.12.4"
  }
 },
 "nbformat": 4,
 "nbformat_minor": 5
}
