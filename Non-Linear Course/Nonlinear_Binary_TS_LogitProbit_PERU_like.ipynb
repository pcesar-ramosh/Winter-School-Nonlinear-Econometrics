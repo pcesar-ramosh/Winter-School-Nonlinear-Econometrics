{
 "cells": [
  {
   "cell_type": "markdown",
   "id": "1cdb0cb7",
   "metadata": {},
   "source": [
    "# Nonlinear Binary Time-Series Models (Logit/Probit) — Macro (Peru-like, Simulated)\n",
    "This notebook simulates monthly macroeconomic data resembling a LATAM economy and estimates:\n",
    "- Dynamic **Probit** and **Logit** for recession probabilities\n",
    "- **Threshold-Logit** (commodity regimes)\n",
    "- **Heteroskedastic Probit** (multiplicative heteroskedasticity MLE)\n",
    "- **FX Crisis** early-warning **Logit** on EPI-defined events\n",
    "\n",
    "It also reports validation metrics (Brier, Log score, AUC), calibration plots, ROC curves, and Ljung–Box tests.\n"
   ]
  },
  {
   "cell_type": "code",
   "execution_count": 1,
   "id": "61218051",
   "metadata": {},
   "outputs": [],
   "source": [
    "import os, math, warnings\n",
    "warnings.filterwarnings(\"ignore\")\n",
    "\n",
    "import numpy as np\n",
    "import pandas as pd\n",
    "import matplotlib.pyplot as plt\n",
    "\n",
    "from scipy import stats, optimize\n",
    "import statsmodels.api as sm\n",
    "from statsmodels.tools.tools import add_constant\n",
    "from statsmodels.stats.diagnostic import acorr_ljungbox\n",
    "\n",
    "from sklearn.metrics import roc_auc_score, roc_curve, brier_score_loss, log_loss\n",
    "from sklearn.calibration import calibration_curve\n",
    "\n",
    "OUT_FIGS = \"output/figs\"\n",
    "OUT_TBLS = \"output/tables\"\n",
    "os.makedirs(OUT_FIGS, exist_ok=True)\n",
    "os.makedirs(OUT_TBLS, exist_ok=True)\n"
   ]
  },
  {
   "cell_type": "markdown",
   "id": "63643fa6",
   "metadata": {},
   "source": [
    "### 1) Simulate monthly macro data (Peru-like)"
   ]
  },
  {
   "cell_type": "code",
   "execution_count": 2,
   "id": "b28a233d",
   "metadata": {},
   "outputs": [
    {
     "data": {
      "application/vnd.microsoft.datawrangler.viewer.v0+json": {
       "columns": [
        {
         "name": "index",
         "rawType": "datetime64[ns]",
         "type": "datetime"
        },
        {
         "name": "y_gap",
         "rawType": "float64",
         "type": "float"
        },
        {
         "name": "pi",
         "rawType": "float64",
         "type": "float"
        },
        {
         "name": "comm",
         "rawType": "float64",
         "type": "float"
        },
        {
         "name": "i_us",
         "rawType": "float64",
         "type": "float"
        },
        {
         "name": "i_policy",
         "rawType": "float64",
         "type": "float"
        },
        {
         "name": "slope",
         "rawType": "float64",
         "type": "float"
        },
        {
         "name": "pmi",
         "rawType": "float64",
         "type": "float"
        },
        {
         "name": "embi",
         "rawType": "float64",
         "type": "float"
        },
        {
         "name": "dlog_fx",
         "rawType": "float64",
         "type": "float"
        },
        {
         "name": "dlog_res",
         "rawType": "float64",
         "type": "float"
        },
        {
         "name": "EPI",
         "rawType": "float64",
         "type": "float"
        },
        {
         "name": "y_rec",
         "rawType": "int64",
         "type": "integer"
        },
        {
         "name": "y_fx",
         "rawType": "int64",
         "type": "integer"
        },
        {
         "name": "y_hi",
         "rawType": "int64",
         "type": "integer"
        },
        {
         "name": "pi_12m",
         "rawType": "float64",
         "type": "float"
        }
       ],
       "ref": "c4342116-a5c8-4628-b0b0-9bf99e2c13f4",
       "rows": [
        [
         "2005-01-01 00:00:00",
         "0.0",
         "0.0",
         "100.0",
         "0.0",
         "0.0",
         "1.6454473683029376",
         "50.55630768044838",
         "1.1342891339409076",
         "-0.02431183526708321",
         "0.002325374702670029",
         "-4.304746662131366",
         "0",
         "0",
         "0",
         null
        ],
        [
         "2005-02-01 00:00:00",
         "0.10597281384659842",
         "3.275552009445896",
         "99.90463106109031",
         "0.09052713517051394",
         "0.8294129315764505",
         "1.567257290204844",
         "50.04448435954721",
         "1.5575884364381403",
         "0.01645096162304714",
         "0.005051243498736035",
         "-1.246651764046847",
         "0",
         "0",
         "0",
         null
        ],
        [
         "2005-03-01 00:00:00",
         "-0.0015034241679373582",
         "5.204725740397961",
         "101.49911067707609",
         "0.14442993982126942",
         "1.6237823775622362",
         "1.322321301123526",
         "50.11150628001665",
         "2.4091248983271942",
         "0.02338360779902438",
         "-0.0019592535975154783",
         "2.0879656843222127",
         "0",
         "1",
         "0",
         null
        ],
        [
         "2005-04-01 00:00:00",
         "-0.2895323233508814",
         "6.703918637858684",
         "103.20608894612218",
         "0.1823247011276042",
         "2.3539544348004307",
         "1.391349589657858",
         "47.26971371190987",
         "3.1574157091843036",
         "0.006267453574546552",
         "-0.0030637760676678048",
         "0.7887969912277625",
         "1",
         "0",
         "0",
         null
        ],
        [
         "2005-05-01 00:00:00",
         "-0.014527611538843854",
         "7.698997663865113",
         "103.84324865161202",
         "0.18508066139391285",
         "3.0571307752041763",
         "1.5281349149018195",
         "48.418520469108394",
         "2.865509849943973",
         "0.006537799531070337",
         "0.004709452429169546",
         "-2.1112770945313626",
         "0",
         "0",
         "0",
         null
        ]
       ],
       "shape": {
        "columns": 15,
        "rows": 5
       }
      },
      "text/html": [
       "<div>\n",
       "<style scoped>\n",
       "    .dataframe tbody tr th:only-of-type {\n",
       "        vertical-align: middle;\n",
       "    }\n",
       "\n",
       "    .dataframe tbody tr th {\n",
       "        vertical-align: top;\n",
       "    }\n",
       "\n",
       "    .dataframe thead th {\n",
       "        text-align: right;\n",
       "    }\n",
       "</style>\n",
       "<table border=\"1\" class=\"dataframe\">\n",
       "  <thead>\n",
       "    <tr style=\"text-align: right;\">\n",
       "      <th></th>\n",
       "      <th>y_gap</th>\n",
       "      <th>pi</th>\n",
       "      <th>comm</th>\n",
       "      <th>i_us</th>\n",
       "      <th>i_policy</th>\n",
       "      <th>slope</th>\n",
       "      <th>pmi</th>\n",
       "      <th>embi</th>\n",
       "      <th>dlog_fx</th>\n",
       "      <th>dlog_res</th>\n",
       "      <th>EPI</th>\n",
       "      <th>y_rec</th>\n",
       "      <th>y_fx</th>\n",
       "      <th>y_hi</th>\n",
       "      <th>pi_12m</th>\n",
       "    </tr>\n",
       "  </thead>\n",
       "  <tbody>\n",
       "    <tr>\n",
       "      <th>2005-01-01</th>\n",
       "      <td>0.000000</td>\n",
       "      <td>0.000000</td>\n",
       "      <td>100.000000</td>\n",
       "      <td>0.000000</td>\n",
       "      <td>0.000000</td>\n",
       "      <td>1.645447</td>\n",
       "      <td>50.556308</td>\n",
       "      <td>1.134289</td>\n",
       "      <td>-0.024312</td>\n",
       "      <td>0.002325</td>\n",
       "      <td>-4.304747</td>\n",
       "      <td>0</td>\n",
       "      <td>0</td>\n",
       "      <td>0</td>\n",
       "      <td>NaN</td>\n",
       "    </tr>\n",
       "    <tr>\n",
       "      <th>2005-02-01</th>\n",
       "      <td>0.105973</td>\n",
       "      <td>3.275552</td>\n",
       "      <td>99.904631</td>\n",
       "      <td>0.090527</td>\n",
       "      <td>0.829413</td>\n",
       "      <td>1.567257</td>\n",
       "      <td>50.044484</td>\n",
       "      <td>1.557588</td>\n",
       "      <td>0.016451</td>\n",
       "      <td>0.005051</td>\n",
       "      <td>-1.246652</td>\n",
       "      <td>0</td>\n",
       "      <td>0</td>\n",
       "      <td>0</td>\n",
       "      <td>NaN</td>\n",
       "    </tr>\n",
       "    <tr>\n",
       "      <th>2005-03-01</th>\n",
       "      <td>-0.001503</td>\n",
       "      <td>5.204726</td>\n",
       "      <td>101.499111</td>\n",
       "      <td>0.144430</td>\n",
       "      <td>1.623782</td>\n",
       "      <td>1.322321</td>\n",
       "      <td>50.111506</td>\n",
       "      <td>2.409125</td>\n",
       "      <td>0.023384</td>\n",
       "      <td>-0.001959</td>\n",
       "      <td>2.087966</td>\n",
       "      <td>0</td>\n",
       "      <td>1</td>\n",
       "      <td>0</td>\n",
       "      <td>NaN</td>\n",
       "    </tr>\n",
       "    <tr>\n",
       "      <th>2005-04-01</th>\n",
       "      <td>-0.289532</td>\n",
       "      <td>6.703919</td>\n",
       "      <td>103.206089</td>\n",
       "      <td>0.182325</td>\n",
       "      <td>2.353954</td>\n",
       "      <td>1.391350</td>\n",
       "      <td>47.269714</td>\n",
       "      <td>3.157416</td>\n",
       "      <td>0.006267</td>\n",
       "      <td>-0.003064</td>\n",
       "      <td>0.788797</td>\n",
       "      <td>1</td>\n",
       "      <td>0</td>\n",
       "      <td>0</td>\n",
       "      <td>NaN</td>\n",
       "    </tr>\n",
       "    <tr>\n",
       "      <th>2005-05-01</th>\n",
       "      <td>-0.014528</td>\n",
       "      <td>7.698998</td>\n",
       "      <td>103.843249</td>\n",
       "      <td>0.185081</td>\n",
       "      <td>3.057131</td>\n",
       "      <td>1.528135</td>\n",
       "      <td>48.418520</td>\n",
       "      <td>2.865510</td>\n",
       "      <td>0.006538</td>\n",
       "      <td>0.004709</td>\n",
       "      <td>-2.111277</td>\n",
       "      <td>0</td>\n",
       "      <td>0</td>\n",
       "      <td>0</td>\n",
       "      <td>NaN</td>\n",
       "    </tr>\n",
       "  </tbody>\n",
       "</table>\n",
       "</div>"
      ],
      "text/plain": [
       "               y_gap        pi        comm      i_us  i_policy     slope  \\\n",
       "2005-01-01  0.000000  0.000000  100.000000  0.000000  0.000000  1.645447   \n",
       "2005-02-01  0.105973  3.275552   99.904631  0.090527  0.829413  1.567257   \n",
       "2005-03-01 -0.001503  5.204726  101.499111  0.144430  1.623782  1.322321   \n",
       "2005-04-01 -0.289532  6.703919  103.206089  0.182325  2.353954  1.391350   \n",
       "2005-05-01 -0.014528  7.698998  103.843249  0.185081  3.057131  1.528135   \n",
       "\n",
       "                  pmi      embi   dlog_fx  dlog_res       EPI  y_rec  y_fx  \\\n",
       "2005-01-01  50.556308  1.134289 -0.024312  0.002325 -4.304747      0     0   \n",
       "2005-02-01  50.044484  1.557588  0.016451  0.005051 -1.246652      0     0   \n",
       "2005-03-01  50.111506  2.409125  0.023384 -0.001959  2.087966      0     1   \n",
       "2005-04-01  47.269714  3.157416  0.006267 -0.003064  0.788797      1     0   \n",
       "2005-05-01  48.418520  2.865510  0.006538  0.004709 -2.111277      0     0   \n",
       "\n",
       "            y_hi  pi_12m  \n",
       "2005-01-01     0     NaN  \n",
       "2005-02-01     0     NaN  \n",
       "2005-03-01     0     NaN  \n",
       "2005-04-01     0     NaN  \n",
       "2005-05-01     0     NaN  "
      ]
     },
     "execution_count": 2,
     "metadata": {},
     "output_type": "execute_result"
    }
   ],
   "source": [
    "def simulate_macro(T=240, seed=2025):\n",
    "    rng = np.random.default_rng(seed)\n",
    "    idx = pd.date_range(\"2005-01-01\", periods=T, freq=\"MS\")\n",
    "    h = np.zeros(T)\n",
    "    h[0] = -1.5\n",
    "    for t in range(1, T):\n",
    "        h[t] = -1.2 + 0.90*h[t-1] + 0.15*rng.standard_normal()\n",
    "    vol_pi = np.exp(0.5*h)\n",
    "\n",
    "    comm = np.zeros(T); comm[0] = 100.0\n",
    "    for t in range(1, T):\n",
    "        comm[t] = 100 + 0.95*(comm[t-1]-100) + 1.2*np.sin(2*np.pi*t/48) + 0.8*rng.standard_normal()\n",
    "\n",
    "    y_gap = np.zeros(T)\n",
    "    for t in range(1, T):\n",
    "        y_gap[t] = 0.8*y_gap[t-1] + 0.02*(comm[t]-100) - 0.10 + 0.2*rng.standard_normal()\n",
    "\n",
    "    pi = np.zeros(T)\n",
    "    for t in range(1, T):\n",
    "        pi[t] = 0.7*pi[t-1] + 0.03*(comm[t]-100)/10 + 3.0 + vol_pi[t]*rng.standard_normal()\n",
    "\n",
    "    i_us = np.zeros(T)\n",
    "    for t in range(1, T):\n",
    "        i_us[t] = 0.98*i_us[t-1] + 0.02*2.0 + 0.05*rng.standard_normal()\n",
    "\n",
    "    i_policy = np.zeros(T)\n",
    "    for t in range(1, T):\n",
    "        i_policy[t] = (0.7*i_policy[t-1]\n",
    "                       + 0.3*(2.5 + 0.5*(pi[t]-3.0) + 0.4*y_gap[t])\n",
    "                       + 0.05*rng.standard_normal())\n",
    "\n",
    "    slope = 1.5 + 0.3*y_gap + 0.1*rng.standard_normal(T) - 0.2*(pi - 3.0)/10\n",
    "    pmi = 50 + 5*y_gap + 0.5*rng.standard_normal(T) - 0.2*(pi - 3.0)\n",
    "    embi = 2.0 + 0.8*(-y_gap) + 0.2*(pi-3.0) + 0.3*rng.standard_normal(T)\n",
    "    embi = np.maximum(embi, 0.5)\n",
    "\n",
    "    dlog_fx = 0.002*(-y_gap) + 0.001*(pi-3.0) + 0.01*rng.standard_normal(T)\n",
    "    dlog_res = -0.003*(-y_gap) + 0.002*rng.standard_normal(T)\n",
    "\n",
    "    df = pd.DataFrame({\n",
    "        \"y_gap\": y_gap,\n",
    "        \"pi\": pi,\n",
    "        \"comm\": comm,\n",
    "        \"i_us\": i_us,\n",
    "        \"i_policy\": i_policy,\n",
    "        \"slope\": slope,\n",
    "        \"pmi\": pmi,\n",
    "        \"embi\": embi,\n",
    "        \"dlog_fx\": dlog_fx,\n",
    "        \"dlog_res\": dlog_res\n",
    "    }, index=idx)\n",
    "\n",
    "    z_fx = (df[\"dlog_fx\"] - df[\"dlog_fx\"].mean())/df[\"dlog_fx\"].std()\n",
    "    z_res = (df[\"dlog_res\"] - df[\"dlog_res\"].mean())/df[\"dlog_res\"].std()\n",
    "    df[\"EPI\"] = z_fx - z_res\n",
    "    return df\n",
    "\n",
    "df = simulate_macro()\n",
    "eta_rec = -1.0 - 1.5*df[\"y_gap\"].values - 0.6*df[\"slope\"].values + 0.5*df[\"embi\"].values\n",
    "p_rec_true = stats.norm.cdf(eta_rec)\n",
    "rng = np.random.default_rng(2026)\n",
    "df[\"y_rec\"] = rng.binomial(1, np.clip(p_rec_true, 0.001, 0.999))\n",
    "tau_epi = np.quantile(df[\"EPI\"], 0.85)\n",
    "df[\"y_fx\"] = (df[\"EPI\"] > tau_epi).astype(int)\n",
    "pi_12m = df[\"pi\"].rolling(12, min_periods=12).mean()\n",
    "tau_pi = np.nanquantile(pi_12m, 0.80)\n",
    "df[\"y_hi\"] = (pi_12m > tau_pi).astype(int).fillna(0)\n",
    "df[\"pi_12m\"] = pi_12m\n",
    "df.describe().T.to_csv(os.path.join(OUT_TBLS, \"01_descriptives.csv\"))\n",
    "df.head()\n"
   ]
  },
  {
   "cell_type": "markdown",
   "id": "91864333",
   "metadata": {},
   "source": [
    "### 2) Dynamic Probit & Logit for Recession"
   ]
  },
  {
   "cell_type": "code",
   "execution_count": 3,
   "id": "d236390f",
   "metadata": {},
   "outputs": [
    {
     "name": "stdout",
     "output_type": "stream",
     "text": [
      "                          Probit Regression Results                           \n",
      "==============================================================================\n",
      "Dep. Variable:                      y   No. Observations:                  179\n",
      "Model:                         Probit   Df Residuals:                      173\n",
      "Method:                           MLE   Df Model:                            5\n",
      "Date:                Tue, 16 Sep 2025   Pseudo R-squ.:                  0.3869\n",
      "Time:                        01:14:41   Log-Likelihood:                -75.318\n",
      "converged:                       True   LL-Null:                       -122.84\n",
      "Covariance Type:                  HC1   LLR p-value:                 5.852e-19\n",
      "==============================================================================\n",
      "                 coef    std err          z      P>|z|      [0.025      0.975]\n",
      "------------------------------------------------------------------------------\n",
      "const          2.6955     11.778      0.229      0.819     -20.389      25.780\n",
      "y_rec_l1      -0.0862      0.248     -0.347      0.728      -0.573       0.400\n",
      "y_gap         -1.6752      1.322     -1.268      0.205      -4.265       0.915\n",
      "slope          0.7077      1.140      0.621      0.535      -1.527       2.943\n",
      "embi           0.7128      0.342      2.086      0.037       0.043       1.383\n",
      "pmi           -0.1268      0.239     -0.530      0.596      -0.595       0.342\n",
      "==============================================================================\n",
      "                           Logit Regression Results                           \n",
      "==============================================================================\n",
      "Dep. Variable:                      y   No. Observations:                  179\n",
      "Model:                          Logit   Df Residuals:                      173\n",
      "Method:                           MLE   Df Model:                            5\n",
      "Date:                Tue, 16 Sep 2025   Pseudo R-squ.:                  0.3876\n",
      "Time:                        01:14:41   Log-Likelihood:                -75.227\n",
      "converged:                       True   LL-Null:                       -122.84\n",
      "Covariance Type:                  HC1   LLR p-value:                 5.357e-19\n",
      "==============================================================================\n",
      "                 coef    std err          z      P>|z|      [0.025      0.975]\n",
      "------------------------------------------------------------------------------\n",
      "const          6.5662     20.901      0.314      0.753     -34.399      47.532\n",
      "y_rec_l1      -0.1265      0.428     -0.296      0.767      -0.965       0.712\n",
      "y_gap         -2.6834      2.313     -1.160      0.246      -7.216       1.850\n",
      "slope          1.4189      2.112      0.672      0.502      -2.721       5.559\n",
      "embi           1.2711      0.617      2.061      0.039       0.062       2.480\n",
      "pmi           -0.2661      0.421     -0.632      0.528      -1.092       0.560\n",
      "==============================================================================\n"
     ]
    },
    {
     "data": {
      "application/vnd.microsoft.datawrangler.viewer.v0+json": {
       "columns": [
        {
         "name": "index",
         "rawType": "int64",
         "type": "integer"
        },
        {
         "name": "model",
         "rawType": "object",
         "type": "string"
        },
        {
         "name": "AUC",
         "rawType": "float64",
         "type": "float"
        },
        {
         "name": "Brier",
         "rawType": "float64",
         "type": "float"
        },
        {
         "name": "LogScore",
         "rawType": "float64",
         "type": "float"
        }
       ],
       "ref": "241624ff-eee7-457c-9aee-00374bdc6f8d",
       "rows": [
        [
         "0",
         "Probit",
         "0.9360795454545454",
         "0.09325413263826667",
         "0.2821287915301295"
        ],
        [
         "1",
         "Logit",
         "0.9346590909090909",
         "0.0938571802094585",
         "0.28654864713960493"
        ]
       ],
       "shape": {
        "columns": 4,
        "rows": 2
       }
      },
      "text/html": [
       "<div>\n",
       "<style scoped>\n",
       "    .dataframe tbody tr th:only-of-type {\n",
       "        vertical-align: middle;\n",
       "    }\n",
       "\n",
       "    .dataframe tbody tr th {\n",
       "        vertical-align: top;\n",
       "    }\n",
       "\n",
       "    .dataframe thead th {\n",
       "        text-align: right;\n",
       "    }\n",
       "</style>\n",
       "<table border=\"1\" class=\"dataframe\">\n",
       "  <thead>\n",
       "    <tr style=\"text-align: right;\">\n",
       "      <th></th>\n",
       "      <th>model</th>\n",
       "      <th>AUC</th>\n",
       "      <th>Brier</th>\n",
       "      <th>LogScore</th>\n",
       "    </tr>\n",
       "  </thead>\n",
       "  <tbody>\n",
       "    <tr>\n",
       "      <th>0</th>\n",
       "      <td>Probit</td>\n",
       "      <td>0.936080</td>\n",
       "      <td>0.093254</td>\n",
       "      <td>0.282129</td>\n",
       "    </tr>\n",
       "    <tr>\n",
       "      <th>1</th>\n",
       "      <td>Logit</td>\n",
       "      <td>0.934659</td>\n",
       "      <td>0.093857</td>\n",
       "      <td>0.286549</td>\n",
       "    </tr>\n",
       "  </tbody>\n",
       "</table>\n",
       "</div>"
      ],
      "text/plain": [
       "    model       AUC     Brier  LogScore\n",
       "0  Probit  0.936080  0.093254  0.282129\n",
       "1   Logit  0.934659  0.093857  0.286549"
      ]
     },
     "execution_count": 3,
     "metadata": {},
     "output_type": "execute_result"
    }
   ],
   "source": [
    "def time_split(df, frac_train=0.75):\n",
    "    T = len(df); T_tr = int(frac_train*T)\n",
    "    return df.index[:T_tr], df.index[T_tr:]\n",
    "\n",
    "dfA = df.copy()\n",
    "dfA[\"y_rec_l1\"] = dfA[\"y_rec\"].shift(1)\n",
    "X_cols = [\"y_rec_l1\",\"y_gap\",\"slope\",\"embi\",\"pmi\"]\n",
    "dfA_model = dfA[X_cols+[\"y_rec\"]].dropna()\n",
    "\n",
    "X = add_constant(dfA_model[X_cols])\n",
    "y = dfA_model[\"y_rec\"].values\n",
    "tr_idx, te_idx = time_split(dfA_model, 0.75)\n",
    "\n",
    "X_tr, X_te = X.loc[tr_idx], X.loc[te_idx]\n",
    "y_tr, y_te = y[:len(X_tr)], y[len(X_tr):]\n",
    "\n",
    "probit_res = sm.Probit(y_tr, X_tr).fit(disp=False, cov_type=\"HC1\")\n",
    "logit_res  = sm.Logit(y_tr,  X_tr).fit(disp=False, cov_type=\"HC1\")\n",
    "\n",
    "p_probit_te = probit_res.predict(X_te)\n",
    "p_logit_te  = logit_res.predict(X_te)\n",
    "\n",
    "def brier(y, p): return brier_score_loss(y, p)\n",
    "def log_score(y, p, eps=1e-12):\n",
    "    p = np.clip(p, eps, 1-eps)\n",
    "    return -np.mean(y*np.log(p)+(1-y)*np.log(1-p))\n",
    "\n",
    "metrics = pd.DataFrame([\n",
    "    {\"model\":\"Probit\", \"AUC\": roc_auc_score(y_te, p_probit_te),\n",
    "     \"Brier\": brier(y_te, p_probit_te), \"LogScore\": log_score(y_te, p_probit_te)},\n",
    "    {\"model\":\"Logit\",  \"AUC\": roc_auc_score(y_te, p_logit_te),\n",
    "     \"Brier\": brier(y_te, p_logit_te),  \"LogScore\": log_score(y_te, p_logit_te)},\n",
    "])\n",
    "metrics.to_csv(os.path.join(OUT_TBLS, \"02_metrics_rec_test.csv\"), index=False)\n",
    "\n",
    "print(probit_res.summary())\n",
    "print(logit_res.summary())\n",
    "metrics\n"
   ]
  },
  {
   "cell_type": "markdown",
   "id": "93250972",
   "metadata": {},
   "source": [
    "### 3) Validation plots (calibration, ROC, probability paths)"
   ]
  },
  {
   "cell_type": "code",
   "execution_count": 4,
   "id": "802b00e0",
   "metadata": {},
   "outputs": [],
   "source": [
    "def calibration_plot(y_true, p_hat, title, path_png):\n",
    "    prob_true, prob_pred = calibration_curve(y_true, p_hat, n_bins=10, strategy=\"uniform\")\n",
    "    plt.figure(figsize=(6,4))\n",
    "    plt.plot(prob_pred, prob_true, marker=\"o\", linestyle=\"-\")\n",
    "    plt.plot([0,1],[0,1], linestyle=\"--\")\n",
    "    plt.title(title); plt.xlabel(\"Predicted probability\"); plt.ylabel(\"Observed frequency\")\n",
    "    plt.tight_layout(); plt.savefig(path_png, dpi=160); plt.close()\n",
    "\n",
    "def roc_plot(y_true, p_hat, title, path_png):\n",
    "    fpr, tpr, _ = roc_curve(y_true, p_hat)\n",
    "    auc = roc_auc_score(y_true, p_hat)\n",
    "    plt.figure(figsize=(6,4))\n",
    "    plt.plot(fpr, tpr, linestyle=\"-\")\n",
    "    plt.plot([0,1],[0,1], linestyle=\"--\")\n",
    "    plt.title(f\"{title} (AUC={auc:.3f})\"); plt.xlabel(\"False Positive Rate\"); plt.ylabel(\"True Positive Rate\")\n",
    "    plt.tight_layout(); plt.savefig(path_png, dpi=160); plt.close()\n",
    "\n",
    "def prob_plot(idx, p_hat, title, path_png):\n",
    "    plt.figure(figsize=(9,3.2))\n",
    "    plt.plot(idx, p_hat, linestyle=\"-\")\n",
    "    plt.ylim(0,1); plt.title(title); plt.xlabel(\"Time\"); plt.ylabel(\"Probability\")\n",
    "    plt.tight_layout(); plt.savefig(path_png, dpi=160); plt.close()\n",
    "\n",
    "calibration_plot(y_te, p_probit_te, \"Calibration: Dynamic Probit (Recession) – Test\",\n",
    "                 os.path.join(OUT_FIGS, \"calib_probit_rec.png\"))\n",
    "roc_plot(y_te, p_probit_te, \"ROC: Dynamic Probit (Recession) – Test\",\n",
    "         os.path.join(OUT_FIGS, \"roc_probit_rec.png\"))\n",
    "prob_plot(X_te.index, p_probit_te, \"Predicted Probabilities – Probit (Test)\",\n",
    "          os.path.join(OUT_FIGS, \"probs_probit_rec.png\"))\n"
   ]
  },
  {
   "cell_type": "markdown",
   "id": "c4075efb",
   "metadata": {},
   "source": [
    "### 4) Threshold-Logit (commodity threshold with interactions)"
   ]
  },
  {
   "cell_type": "code",
   "execution_count": 6,
   "id": "5142d422",
   "metadata": {},
   "outputs": [
    {
     "ename": "KeyError",
     "evalue": "'comm'",
     "output_type": "error",
     "traceback": [
      "\u001b[1;31m---------------------------------------------------------------------------\u001b[0m",
      "\u001b[1;31mKeyError\u001b[0m                                  Traceback (most recent call last)",
      "File \u001b[1;32mc:\\Users\\CESAR\\AppData\\Local\\Programs\\Python\\Python312\\Lib\\site-packages\\pandas\\core\\indexes\\base.py:3805\u001b[0m, in \u001b[0;36mIndex.get_loc\u001b[1;34m(self, key)\u001b[0m\n\u001b[0;32m   3804\u001b[0m \u001b[38;5;28;01mtry\u001b[39;00m:\n\u001b[1;32m-> 3805\u001b[0m     \u001b[38;5;28;01mreturn\u001b[39;00m \u001b[38;5;28;43mself\u001b[39;49m\u001b[38;5;241;43m.\u001b[39;49m\u001b[43m_engine\u001b[49m\u001b[38;5;241;43m.\u001b[39;49m\u001b[43mget_loc\u001b[49m\u001b[43m(\u001b[49m\u001b[43mcasted_key\u001b[49m\u001b[43m)\u001b[49m\n\u001b[0;32m   3806\u001b[0m \u001b[38;5;28;01mexcept\u001b[39;00m \u001b[38;5;167;01mKeyError\u001b[39;00m \u001b[38;5;28;01mas\u001b[39;00m err:\n",
      "File \u001b[1;32mindex.pyx:167\u001b[0m, in \u001b[0;36mpandas._libs.index.IndexEngine.get_loc\u001b[1;34m()\u001b[0m\n",
      "File \u001b[1;32mindex.pyx:196\u001b[0m, in \u001b[0;36mpandas._libs.index.IndexEngine.get_loc\u001b[1;34m()\u001b[0m\n",
      "File \u001b[1;32mpandas\\\\_libs\\\\hashtable_class_helper.pxi:7081\u001b[0m, in \u001b[0;36mpandas._libs.hashtable.PyObjectHashTable.get_item\u001b[1;34m()\u001b[0m\n",
      "File \u001b[1;32mpandas\\\\_libs\\\\hashtable_class_helper.pxi:7089\u001b[0m, in \u001b[0;36mpandas._libs.hashtable.PyObjectHashTable.get_item\u001b[1;34m()\u001b[0m\n",
      "\u001b[1;31mKeyError\u001b[0m: 'comm'",
      "\nThe above exception was the direct cause of the following exception:\n",
      "\u001b[1;31mKeyError\u001b[0m                                  Traceback (most recent call last)",
      "Cell \u001b[1;32mIn[6], line 1\u001b[0m\n\u001b[1;32m----> 1\u001b[0m c \u001b[38;5;241m=\u001b[39m np\u001b[38;5;241m.\u001b[39mquantile(\u001b[43mdfA_model\u001b[49m\u001b[38;5;241;43m.\u001b[39;49m\u001b[43mreindex\u001b[49m\u001b[43m(\u001b[49m\u001b[43mX\u001b[49m\u001b[38;5;241;43m.\u001b[39;49m\u001b[43mindex\u001b[49m\u001b[43m)\u001b[49m\u001b[43m[\u001b[49m\u001b[38;5;124;43m\"\u001b[39;49m\u001b[38;5;124;43mcomm\u001b[39;49m\u001b[38;5;124;43m\"\u001b[39;49m\u001b[43m]\u001b[49m, \u001b[38;5;241m0.40\u001b[39m)\n\u001b[0;32m      2\u001b[0m reg_low \u001b[38;5;241m=\u001b[39m (dfA_model\u001b[38;5;241m.\u001b[39mreindex(X\u001b[38;5;241m.\u001b[39mindex)[\u001b[38;5;124m\"\u001b[39m\u001b[38;5;124mcomm\u001b[39m\u001b[38;5;124m\"\u001b[39m] \u001b[38;5;241m<\u001b[39m\u001b[38;5;241m=\u001b[39m c)\u001b[38;5;241m.\u001b[39mastype(\u001b[38;5;28mint\u001b[39m)\n\u001b[0;32m      4\u001b[0m X_thr \u001b[38;5;241m=\u001b[39m X\u001b[38;5;241m.\u001b[39mcopy()\n",
      "File \u001b[1;32mc:\\Users\\CESAR\\AppData\\Local\\Programs\\Python\\Python312\\Lib\\site-packages\\pandas\\core\\frame.py:4102\u001b[0m, in \u001b[0;36mDataFrame.__getitem__\u001b[1;34m(self, key)\u001b[0m\n\u001b[0;32m   4100\u001b[0m \u001b[38;5;28;01mif\u001b[39;00m \u001b[38;5;28mself\u001b[39m\u001b[38;5;241m.\u001b[39mcolumns\u001b[38;5;241m.\u001b[39mnlevels \u001b[38;5;241m>\u001b[39m \u001b[38;5;241m1\u001b[39m:\n\u001b[0;32m   4101\u001b[0m     \u001b[38;5;28;01mreturn\u001b[39;00m \u001b[38;5;28mself\u001b[39m\u001b[38;5;241m.\u001b[39m_getitem_multilevel(key)\n\u001b[1;32m-> 4102\u001b[0m indexer \u001b[38;5;241m=\u001b[39m \u001b[38;5;28;43mself\u001b[39;49m\u001b[38;5;241;43m.\u001b[39;49m\u001b[43mcolumns\u001b[49m\u001b[38;5;241;43m.\u001b[39;49m\u001b[43mget_loc\u001b[49m\u001b[43m(\u001b[49m\u001b[43mkey\u001b[49m\u001b[43m)\u001b[49m\n\u001b[0;32m   4103\u001b[0m \u001b[38;5;28;01mif\u001b[39;00m is_integer(indexer):\n\u001b[0;32m   4104\u001b[0m     indexer \u001b[38;5;241m=\u001b[39m [indexer]\n",
      "File \u001b[1;32mc:\\Users\\CESAR\\AppData\\Local\\Programs\\Python\\Python312\\Lib\\site-packages\\pandas\\core\\indexes\\base.py:3812\u001b[0m, in \u001b[0;36mIndex.get_loc\u001b[1;34m(self, key)\u001b[0m\n\u001b[0;32m   3807\u001b[0m     \u001b[38;5;28;01mif\u001b[39;00m \u001b[38;5;28misinstance\u001b[39m(casted_key, \u001b[38;5;28mslice\u001b[39m) \u001b[38;5;129;01mor\u001b[39;00m (\n\u001b[0;32m   3808\u001b[0m         \u001b[38;5;28misinstance\u001b[39m(casted_key, abc\u001b[38;5;241m.\u001b[39mIterable)\n\u001b[0;32m   3809\u001b[0m         \u001b[38;5;129;01mand\u001b[39;00m \u001b[38;5;28many\u001b[39m(\u001b[38;5;28misinstance\u001b[39m(x, \u001b[38;5;28mslice\u001b[39m) \u001b[38;5;28;01mfor\u001b[39;00m x \u001b[38;5;129;01min\u001b[39;00m casted_key)\n\u001b[0;32m   3810\u001b[0m     ):\n\u001b[0;32m   3811\u001b[0m         \u001b[38;5;28;01mraise\u001b[39;00m InvalidIndexError(key)\n\u001b[1;32m-> 3812\u001b[0m     \u001b[38;5;28;01mraise\u001b[39;00m \u001b[38;5;167;01mKeyError\u001b[39;00m(key) \u001b[38;5;28;01mfrom\u001b[39;00m \u001b[38;5;21;01merr\u001b[39;00m\n\u001b[0;32m   3813\u001b[0m \u001b[38;5;28;01mexcept\u001b[39;00m \u001b[38;5;167;01mTypeError\u001b[39;00m:\n\u001b[0;32m   3814\u001b[0m     \u001b[38;5;66;03m# If we have a listlike key, _check_indexing_error will raise\u001b[39;00m\n\u001b[0;32m   3815\u001b[0m     \u001b[38;5;66;03m#  InvalidIndexError. Otherwise we fall through and re-raise\u001b[39;00m\n\u001b[0;32m   3816\u001b[0m     \u001b[38;5;66;03m#  the TypeError.\u001b[39;00m\n\u001b[0;32m   3817\u001b[0m     \u001b[38;5;28mself\u001b[39m\u001b[38;5;241m.\u001b[39m_check_indexing_error(key)\n",
      "\u001b[1;31mKeyError\u001b[0m: 'comm'"
     ]
    }
   ],
   "source": [
    "c = np.quantile(dfA_model.reindex(X.index)[\"comm\"], 0.40)\n",
    "reg_low = (dfA_model.reindex(X.index)[\"comm\"] <= c).astype(int)\n",
    "\n",
    "X_thr = X.copy()\n",
    "for col in [\"y_rec_l1\",\"y_gap\",\"slope\",\"embi\",\"pmi\"]:\n",
    "    X_thr[f\"{col}:low\"] = X_thr[col] * reg_low.values\n",
    "\n",
    "logit_thr = sm.Logit(y_tr, X_thr.loc[tr_idx]).fit(disp=False, cov_type=\"HC1\")\n",
    "p_thr_te  = logit_thr.predict(X_thr.loc[te_idx])\n",
    "\n",
    "pd.DataFrame([{\"model\":\"Threshold-Logit\",\n",
    "               \"AUC\": roc_auc_score(y_te, p_thr_te),\n",
    "               \"Brier\": brier(y_te, p_thr_te),\n",
    "               \"LogScore\": log_score(y_te, p_thr_te)}]).to_csv(\n",
    "    os.path.join(OUT_TBLS, \"05_metrics_threshold_logit_rec.csv\"), index=False\n",
    ")\n",
    "\n",
    "print(logit_thr.summary())\n"
   ]
  },
  {
   "cell_type": "markdown",
   "id": "64fad940",
   "metadata": {},
   "source": [
    "### 5) Heteroskedastic Probit (multiplicative heteroskedasticity MLE)"
   ]
  },
  {
   "cell_type": "code",
   "execution_count": 7,
   "id": "900f5100",
   "metadata": {},
   "outputs": [
    {
     "data": {
      "application/vnd.microsoft.datawrangler.viewer.v0+json": {
       "columns": [
        {
         "name": "index",
         "rawType": "int64",
         "type": "integer"
        },
        {
         "name": "param",
         "rawType": "object",
         "type": "string"
        },
        {
         "name": "estimate",
         "rawType": "float64",
         "type": "float"
        },
        {
         "name": "std_error",
         "rawType": "float64",
         "type": "float"
        }
       ],
       "ref": "6fec7631-5e67-46f8-b8ad-4991309cbcba",
       "rows": [
        [
         "0",
         "beta_const",
         "-3.2489707408431476",
         "1.0092335540979707"
        ],
        [
         "1",
         "beta_y_rec_l1",
         "-0.06748489732912678",
         "0.22485793622870007"
        ],
        [
         "2",
         "beta_y_gap",
         "-2.2793475801851133",
         "0.8869699956985477"
        ],
        [
         "3",
         "beta_slope",
         "0.5646451313080859",
         "0.8109720872522521"
        ],
        [
         "4",
         "beta_embi",
         "0.702014401069842",
         "0.3219934997609273"
        ],
        [
         "5",
         "delta_const",
         "-0.8601171159060929",
         "0.9454288379267746"
        ],
        [
         "6",
         "delta_vol_proxy",
         "0.2335463168194569",
         "0.24376231795548498"
        ]
       ],
       "shape": {
        "columns": 3,
        "rows": 7
       }
      },
      "text/html": [
       "<div>\n",
       "<style scoped>\n",
       "    .dataframe tbody tr th:only-of-type {\n",
       "        vertical-align: middle;\n",
       "    }\n",
       "\n",
       "    .dataframe tbody tr th {\n",
       "        vertical-align: top;\n",
       "    }\n",
       "\n",
       "    .dataframe thead th {\n",
       "        text-align: right;\n",
       "    }\n",
       "</style>\n",
       "<table border=\"1\" class=\"dataframe\">\n",
       "  <thead>\n",
       "    <tr style=\"text-align: right;\">\n",
       "      <th></th>\n",
       "      <th>param</th>\n",
       "      <th>estimate</th>\n",
       "      <th>std_error</th>\n",
       "    </tr>\n",
       "  </thead>\n",
       "  <tbody>\n",
       "    <tr>\n",
       "      <th>0</th>\n",
       "      <td>beta_const</td>\n",
       "      <td>-3.248971</td>\n",
       "      <td>1.009234</td>\n",
       "    </tr>\n",
       "    <tr>\n",
       "      <th>1</th>\n",
       "      <td>beta_y_rec_l1</td>\n",
       "      <td>-0.067485</td>\n",
       "      <td>0.224858</td>\n",
       "    </tr>\n",
       "    <tr>\n",
       "      <th>2</th>\n",
       "      <td>beta_y_gap</td>\n",
       "      <td>-2.279348</td>\n",
       "      <td>0.886970</td>\n",
       "    </tr>\n",
       "    <tr>\n",
       "      <th>3</th>\n",
       "      <td>beta_slope</td>\n",
       "      <td>0.564645</td>\n",
       "      <td>0.810972</td>\n",
       "    </tr>\n",
       "    <tr>\n",
       "      <th>4</th>\n",
       "      <td>beta_embi</td>\n",
       "      <td>0.702014</td>\n",
       "      <td>0.321993</td>\n",
       "    </tr>\n",
       "    <tr>\n",
       "      <th>5</th>\n",
       "      <td>delta_const</td>\n",
       "      <td>-0.860117</td>\n",
       "      <td>0.945429</td>\n",
       "    </tr>\n",
       "    <tr>\n",
       "      <th>6</th>\n",
       "      <td>delta_vol_proxy</td>\n",
       "      <td>0.233546</td>\n",
       "      <td>0.243762</td>\n",
       "    </tr>\n",
       "  </tbody>\n",
       "</table>\n",
       "</div>"
      ],
      "text/plain": [
       "             param  estimate  std_error\n",
       "0       beta_const -3.248971   1.009234\n",
       "1    beta_y_rec_l1 -0.067485   0.224858\n",
       "2       beta_y_gap -2.279348   0.886970\n",
       "3       beta_slope  0.564645   0.810972\n",
       "4        beta_embi  0.702014   0.321993\n",
       "5      delta_const -0.860117   0.945429\n",
       "6  delta_vol_proxy  0.233546   0.243762"
      ]
     },
     "execution_count": 7,
     "metadata": {},
     "output_type": "execute_result"
    }
   ],
   "source": [
    "dfH = dfA_model[[\"y_rec\",\"y_rec_l1\",\"y_gap\",\"slope\",\"embi\"]].copy()\n",
    "dfH[\"vol_proxy\"] = df.reindex(dfH.index)[\"embi\"].values\n",
    "\n",
    "XH = add_constant(dfH[[\"y_rec_l1\",\"y_gap\",\"slope\",\"embi\"]]).values\n",
    "ZH = add_constant(dfH[[\"vol_proxy\"]]).values\n",
    "yH = dfH[\"y_rec\"].values\n",
    "\n",
    "def neg_loglik_het_probit(theta):\n",
    "    kx = XH.shape[1]; kz = ZH.shape[1]\n",
    "    beta = theta[:kx]; delta = theta[kx:kx+kz]\n",
    "    eta = XH @ beta; sigma = np.exp(ZH @ delta)\n",
    "    p = stats.norm.cdf(eta / sigma); p = np.clip(p, 1e-9, 1-1e-9)\n",
    "    return -np.sum(yH*np.log(p) + (1-yH)*np.log(1-p))\n",
    "\n",
    "init = sm.Probit(yH, XH).fit(disp=False)\n",
    "theta0 = np.r_[np.asarray(init.params), np.array([0.0, 0.05])]\n",
    "\n",
    "opt = optimize.minimize(neg_loglik_het_probit, theta0, method=\"BFGS\")\n",
    "theta_hat = opt.x; se_hat = np.sqrt(np.diag(opt.hess_inv))\n",
    "\n",
    "par_names = [f\"beta_{n}\" for n in [\"const\",\"y_rec_l1\",\"y_gap\",\"slope\",\"embi\"]] +             [f\"delta_{n}\" for n in [\"const\",\"vol_proxy\"]]\n",
    "tab = pd.DataFrame({\"param\": par_names, \"estimate\": theta_hat, \"std_error\": se_hat})\n",
    "tab.to_csv(os.path.join(OUT_TBLS, \"06_params_heteroskedastic_probit.csv\"), index=False)\n",
    "tab\n"
   ]
  },
  {
   "cell_type": "markdown",
   "id": "1f0a4d65",
   "metadata": {},
   "source": [
    "### 6) FX Crisis Early-Warning Logit (EPI-defined event)"
   ]
  },
  {
   "cell_type": "code",
   "execution_count": 8,
   "id": "e3c28c29",
   "metadata": {},
   "outputs": [
    {
     "name": "stdout",
     "output_type": "stream",
     "text": [
      "                           Logit Regression Results                           \n",
      "==============================================================================\n",
      "Dep. Variable:                      y   No. Observations:                  171\n",
      "Model:                          Logit   Df Residuals:                      165\n",
      "Method:                           MLE   Df Model:                            5\n",
      "Date:                Tue, 16 Sep 2025   Pseudo R-squ.:                  0.1418\n",
      "Time:                        01:15:38   Log-Likelihood:                -52.952\n",
      "converged:                       True   LL-Null:                       -61.701\n",
      "Covariance Type:                  HC1   LLR p-value:                  0.003646\n",
      "==============================================================================\n",
      "                 coef    std err          z      P>|z|      [0.025      0.975]\n",
      "------------------------------------------------------------------------------\n",
      "const         -3.8516      7.071     -0.545      0.586     -17.711      10.008\n",
      "embi           0.7420      0.760      0.976      0.329      -0.748       2.232\n",
      "slope         -2.8982      2.034     -1.425      0.154      -6.886       1.089\n",
      "comm           0.0249      0.061      0.407      0.684      -0.095       0.145\n",
      "y_gap         -0.6839      1.104     -0.619      0.536      -2.848       1.481\n",
      "EPI_l1         0.1179      0.221      0.535      0.593      -0.314       0.550\n",
      "==============================================================================\n"
     ]
    }
   ],
   "source": [
    "dfE = df.copy(); dfE[\"EPI_l1\"] = dfE[\"EPI\"].shift(1); dfE = dfE.dropna()\n",
    "yE = dfE[\"y_fx\"].values\n",
    "XE = add_constant(dfE[[\"embi\",\"slope\",\"comm\",\"y_gap\",\"EPI_l1\"]])\n",
    "\n",
    "T = len(XE); T_tr = int(0.75*T)\n",
    "XE_tr, XE_te = XE.iloc[:T_tr], XE.iloc[T_tr:]\n",
    "yE_tr, yE_te = yE[:T_tr], yE[T_tr:]\n",
    "\n",
    "logit_fx = sm.Logit(yE_tr, XE_tr).fit(disp=False, cov_type=\"HC1\")\n",
    "p_fx_te = logit_fx.predict(XE_te)\n",
    "\n",
    "print(logit_fx.summary())\n",
    "\n",
    "pd.DataFrame([{\"model\":\"Logit – FX Crisis (excl. defining components)\",\n",
    "               \"AUC\": roc_auc_score(yE_te, p_fx_te),\n",
    "               \"Brier\": brier_score_loss(yE_te, p_fx_te),\n",
    "               \"LogScore\": log_loss(yE_te, np.clip(p_fx_te,1e-12,1-1e-12))}]).to_csv(\n",
    "    os.path.join(OUT_TBLS, \"07_metrics_logit_fx.csv\"), index=False\n",
    ")\n"
   ]
  }
 ],
 "metadata": {
  "kernelspec": {
   "display_name": "Python 3",
   "language": "python",
   "name": "python3"
  },
  "language_info": {
   "codemirror_mode": {
    "name": "ipython",
    "version": 3
   },
   "file_extension": ".py",
   "mimetype": "text/x-python",
   "name": "python",
   "nbconvert_exporter": "python",
   "pygments_lexer": "ipython3",
   "version": "3.12.4"
  }
 },
 "nbformat": 4,
 "nbformat_minor": 5
}
